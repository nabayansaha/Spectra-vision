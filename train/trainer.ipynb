{
 "cells": [
  {
   "cell_type": "code",
   "execution_count": 34,
   "id": "ef72b7ab",
   "metadata": {},
   "outputs": [
    {
     "name": "stdout",
     "output_type": "stream",
     "text": [
      "Found 444 files belonging to 2 classes.\n",
      "Found 84 files belonging to 2 classes.\n",
      "Found 108 files belonging to 2 classes.\n"
     ]
    },
    {
     "name": "stderr",
     "output_type": "stream",
     "text": [
      "  0%|          | 0/10 [00:00<?, ?epoch/s]"
     ]
    },
    {
     "name": "stdout",
     "output_type": "stream",
     "text": [
      "Epoch 1/10\n"
     ]
    },
    {
     "name": "stderr",
     "output_type": "stream",
     "text": []
    },
    {
     "name": "stdout",
     "output_type": "stream",
     "text": [
      "\u001b[1m 3/14\u001b[0m \u001b[32m━━━━\u001b[0m\u001b[37m━━━━━━━━━━━━━━━━\u001b[0m \u001b[1m0s\u001b[0m 35ms/step - accuracy: 0.4375 - auc: 0.3860 - loss: 1.8339 - precision: 0.4924 - recall: 0.5595  "
     ]
    },
    {
     "name": "stderr",
     "output_type": "stream",
     "text": []
    },
    {
     "name": "stdout",
     "output_type": "stream",
     "text": [
      "\u001b[1m 7/14\u001b[0m \u001b[32m━━━━━━━━━━\u001b[0m\u001b[37m━━━━━━━━━━\u001b[0m \u001b[1m0s\u001b[0m 29ms/step - accuracy: 0.4785 - auc: 0.4607 - loss: 1.9117 - precision: 0.5032 - recall: 0.6357"
     ]
    },
    {
     "name": "stderr",
     "output_type": "stream",
     "text": []
    },
    {
     "name": "stdout",
     "output_type": "stream",
     "text": [
      "\u001b[1m11/14\u001b[0m \u001b[32m━━━━━━━━━━━━━━━\u001b[0m\u001b[37m━━━━━\u001b[0m \u001b[1m0s\u001b[0m 29ms/step - accuracy: 0.5030 - auc: 0.5089 - loss: 1.8456 - precision: 0.5230 - recall: 0.5924"
     ]
    },
    {
     "name": "stderr",
     "output_type": "stream",
     "text": []
    },
    {
     "name": "stdout",
     "output_type": "stream",
     "text": [
      "\u001b[1m14/14\u001b[0m \u001b[32m━━━━━━━━━━━━━━━━━━━━\u001b[0m\u001b[37m\u001b[0m \u001b[1m0s\u001b[0m 36ms/step - accuracy: 0.5184 - auc: 0.5377 - loss: 1.7820 - precision: 0.5389 - recall: 0.5664"
     ]
    },
    {
     "name": "stderr",
     "output_type": "stream",
     "text": [
      " 10%|█         | 1/10 [00:01<00:15,  1.69s/epoch, accuracy=0.592, auc=0.658, loss=1.48, precision=0.618, recall=0.482, val_accuracy=0.976, val_auc=0.999, val_loss=0.161, val_precision=1, val_recall=0.952]"
     ]
    },
    {
     "name": "stdout",
     "output_type": "stream",
     "text": [
      "\u001b[1m14/14\u001b[0m \u001b[32m━━━━━━━━━━━━━━━━━━━━\u001b[0m\u001b[37m\u001b[0m \u001b[1m2s\u001b[0m 66ms/step - accuracy: 0.5233 - auc: 0.5458 - loss: 1.7619 - precision: 0.5442 - recall: 0.5607 - val_accuracy: 0.9762 - val_auc: 0.9989 - val_loss: 0.1610 - val_precision: 1.0000 - val_recall: 0.9524\n"
     ]
    },
    {
     "name": "stderr",
     "output_type": "stream",
     "text": []
    },
    {
     "name": "stdout",
     "output_type": "stream",
     "text": [
      "Epoch 2/10\n",
      "\u001b[1m 3/14\u001b[0m \u001b[32m━━━━\u001b[0m\u001b[37m━━━━━━━━━━━━━━━━\u001b[0m \u001b[1m0s\u001b[0m 30ms/step - accuracy: 0.8212 - auc: 0.9331 - loss: 0.3496 - precision: 0.8010 - recall: 0.8927"
     ]
    },
    {
     "name": "stderr",
     "output_type": "stream",
     "text": []
    },
    {
     "name": "stdout",
     "output_type": "stream",
     "text": [
      "\u001b[1m 7/14\u001b[0m \u001b[32m━━━━━━━━━━\u001b[0m\u001b[37m━━━━━━━━━━\u001b[0m \u001b[1m0s\u001b[0m 29ms/step - accuracy: 0.7822 - auc: 0.9299 - loss: 0.4191 - precision: 0.7385 - recall: 0.9304"
     ]
    },
    {
     "name": "stderr",
     "output_type": "stream",
     "text": []
    },
    {
     "name": "stdout",
     "output_type": "stream",
     "text": [
      "\u001b[1m11/14\u001b[0m \u001b[32m━━━━━━━━━━━━━━━\u001b[0m\u001b[37m━━━━━\u001b[0m \u001b[1m0s\u001b[0m 28ms/step - accuracy: 0.7697 - auc: 0.9352 - loss: 0.4364 - precision: 0.7166 - recall: 0.9463"
     ]
    },
    {
     "name": "stderr",
     "output_type": "stream",
     "text": []
    },
    {
     "name": "stdout",
     "output_type": "stream",
     "text": [
      "\u001b[1m13/14\u001b[0m \u001b[32m━━━━━━━━━━━━━━━━━━\u001b[0m\u001b[37m━━\u001b[0m \u001b[1m0s\u001b[0m 28ms/step - accuracy: 0.7712 - auc: 0.9380 - loss: 0.4357 - precision: 0.7153 - recall: 0.9508"
     ]
    },
    {
     "name": "stderr",
     "output_type": "stream",
     "text": [
      " 20%|██        | 2/10 [00:02<00:07,  1.01epoch/s, accuracy=0.797, auc=0.958, loss=0.42, precision=0.719, recall=0.977, val_accuracy=0.988, val_auc=0.999, val_loss=0.225, val_precision=1, val_recall=0.976]"
     ]
    },
    {
     "name": "stdout",
     "output_type": "stream",
     "text": [
      "\u001b[1m14/14\u001b[0m \u001b[32m━━━━━━━━━━━━━━━━━━━━\u001b[0m\u001b[37m\u001b[0m \u001b[1m0s\u001b[0m 33ms/step - accuracy: 0.7747 - auc: 0.9406 - loss: 0.4336 - precision: 0.7157 - recall: 0.9544 - val_accuracy: 0.9881 - val_auc: 0.9989 - val_loss: 0.2250 - val_precision: 1.0000 - val_recall: 0.9762\n"
     ]
    },
    {
     "name": "stderr",
     "output_type": "stream",
     "text": []
    },
    {
     "name": "stdout",
     "output_type": "stream",
     "text": [
      "Epoch 3/10\n",
      "\u001b[1m 3/14\u001b[0m \u001b[32m━━━━\u001b[0m\u001b[37m━━━━━━━━━━━━━━━━\u001b[0m \u001b[1m0s\u001b[0m 34ms/step - accuracy: 0.9531 - auc: 0.9891 - loss: 0.2290 - precision: 0.9511 - recall: 0.9668"
     ]
    },
    {
     "name": "stderr",
     "output_type": "stream",
     "text": []
    },
    {
     "name": "stdout",
     "output_type": "stream",
     "text": [
      "\u001b[1m 7/14\u001b[0m \u001b[32m━━━━━━━━━━\u001b[0m\u001b[37m━━━━━━━━━━\u001b[0m \u001b[1m0s\u001b[0m 29ms/step - accuracy: 0.9500 - auc: 0.9895 - loss: 0.2356 - precision: 0.9516 - recall: 0.9540"
     ]
    },
    {
     "name": "stderr",
     "output_type": "stream",
     "text": []
    },
    {
     "name": "stdout",
     "output_type": "stream",
     "text": [
      "\u001b[1m11/14\u001b[0m \u001b[32m━━━━━━━━━━━━━━━\u001b[0m\u001b[37m━━━━━\u001b[0m \u001b[1m0s\u001b[0m 28ms/step - accuracy: 0.9497 - auc: 0.9899 - loss: 0.2312 - precision: 0.9524 - recall: 0.9505"
     ]
    },
    {
     "name": "stderr",
     "output_type": "stream",
     "text": []
    },
    {
     "name": "stdout",
     "output_type": "stream",
     "text": [
      "\u001b[1m13/14\u001b[0m \u001b[32m━━━━━━━━━━━━━━━━━━\u001b[0m\u001b[37m━━\u001b[0m \u001b[1m0s\u001b[0m 27ms/step - accuracy: 0.9501 - auc: 0.9901 - loss: 0.2284 - precision: 0.9528 - recall: 0.9504"
     ]
    },
    {
     "name": "stderr",
     "output_type": "stream",
     "text": [
      " 30%|███       | 3/10 [00:02<00:05,  1.32epoch/s, accuracy=0.955, auc=0.992, loss=0.209, precision=0.955, recall=0.955, val_accuracy=0.988, val_auc=0.999, val_loss=0.0918, val_precision=1, val_recall=0.976]"
     ]
    },
    {
     "name": "stdout",
     "output_type": "stream",
     "text": [
      "\u001b[1m14/14\u001b[0m \u001b[32m━━━━━━━━━━━━━━━━━━━━\u001b[0m\u001b[37m\u001b[0m \u001b[1m0s\u001b[0m 32ms/step - accuracy: 0.9507 - auc: 0.9903 - loss: 0.2259 - precision: 0.9531 - recall: 0.9510 - val_accuracy: 0.9881 - val_auc: 0.9989 - val_loss: 0.0918 - val_precision: 1.0000 - val_recall: 0.9762\n"
     ]
    },
    {
     "name": "stderr",
     "output_type": "stream",
     "text": []
    },
    {
     "name": "stdout",
     "output_type": "stream",
     "text": [
      "Epoch 4/10\n",
      "\u001b[1m 3/14\u001b[0m \u001b[32m━━━━\u001b[0m\u001b[37m━━━━━━━━━━━━━━━━\u001b[0m \u001b[1m0s\u001b[0m 37ms/step - accuracy: 0.9792 - auc: 0.9979 - loss: 0.1032 - precision: 0.9827 - recall: 0.9764"
     ]
    },
    {
     "name": "stderr",
     "output_type": "stream",
     "text": []
    },
    {
     "name": "stdout",
     "output_type": "stream",
     "text": [
      "\u001b[1m 5/14\u001b[0m \u001b[32m━━━━━━━\u001b[0m\u001b[37m━━━━━━━━━━━━━\u001b[0m \u001b[1m0s\u001b[0m 38ms/step - accuracy: 0.9762 - auc: 0.9967 - loss: 0.1119 - precision: 0.9788 - recall: 0.9751"
     ]
    },
    {
     "name": "stderr",
     "output_type": "stream",
     "text": []
    },
    {
     "name": "stdout",
     "output_type": "stream",
     "text": [
      "\u001b[1m 9/14\u001b[0m \u001b[32m━━━━━━━━━━━━\u001b[0m\u001b[37m━━━━━━━━\u001b[0m \u001b[1m0s\u001b[0m 36ms/step - accuracy: 0.9710 - auc: 0.9931 - loss: 0.1205 - precision: 0.9766 - recall: 0.9673"
     ]
    },
    {
     "name": "stderr",
     "output_type": "stream",
     "text": []
    },
    {
     "name": "stdout",
     "output_type": "stream",
     "text": [
      "\u001b[1m13/14\u001b[0m \u001b[32m━━━━━━━━━━━━━━━━━━\u001b[0m\u001b[37m━━\u001b[0m \u001b[1m0s\u001b[0m 33ms/step - accuracy: 0.9709 - auc: 0.9927 - loss: 0.1188 - precision: 0.9770 - recall: 0.9660"
     ]
    },
    {
     "name": "stderr",
     "output_type": "stream",
     "text": [
      " 40%|████      | 4/10 [00:03<00:04,  1.48epoch/s, accuracy=0.971, auc=0.991, loss=0.112, precision=0.982, recall=0.959, val_accuracy=0.964, val_auc=0.995, val_loss=0.0926, val_precision=1, val_recall=0.929]"
     ]
    },
    {
     "name": "stdout",
     "output_type": "stream",
     "text": [
      "\u001b[1m14/14\u001b[0m \u001b[32m━━━━━━━━━━━━━━━━━━━━\u001b[0m\u001b[37m\u001b[0m \u001b[1m1s\u001b[0m 36ms/step - accuracy: 0.9709 - auc: 0.9925 - loss: 0.1179 - precision: 0.9776 - recall: 0.9652 - val_accuracy: 0.9643 - val_auc: 0.9955 - val_loss: 0.0926 - val_precision: 1.0000 - val_recall: 0.9286\n"
     ]
    },
    {
     "name": "stderr",
     "output_type": "stream",
     "text": []
    },
    {
     "name": "stdout",
     "output_type": "stream",
     "text": [
      "Epoch 5/10\n",
      "\u001b[1m 1/14\u001b[0m \u001b[32m━\u001b[0m\u001b[37m━━━━━━━━━━━━━━━━━━━\u001b[0m \u001b[1m0s\u001b[0m 54ms/step - accuracy: 1.0000 - auc: 1.0000 - loss: 0.0192 - precision: 1.0000 - recall: 1.0000"
     ]
    },
    {
     "name": "stderr",
     "output_type": "stream",
     "text": []
    },
    {
     "name": "stdout",
     "output_type": "stream",
     "text": [
      "\u001b[1m 5/14\u001b[0m \u001b[32m━━━━━━━\u001b[0m\u001b[37m━━━━━━━━━━━━━\u001b[0m \u001b[1m0s\u001b[0m 30ms/step - accuracy: 0.9879 - auc: 0.9916 - loss: 0.0859 - precision: 0.9948 - recall: 0.9826"
     ]
    },
    {
     "name": "stderr",
     "output_type": "stream",
     "text": []
    },
    {
     "name": "stdout",
     "output_type": "stream",
     "text": [
      "\u001b[1m 9/14\u001b[0m \u001b[32m━━━━━━━━━━━━\u001b[0m\u001b[37m━━━━━━━━\u001b[0m \u001b[1m0s\u001b[0m 32ms/step - accuracy: 0.9860 - auc: 0.9902 - loss: 0.0979 - precision: 0.9912 - recall: 0.9824"
     ]
    },
    {
     "name": "stderr",
     "output_type": "stream",
     "text": []
    },
    {
     "name": "stdout",
     "output_type": "stream",
     "text": [
      "\u001b[1m13/14\u001b[0m \u001b[32m━━━━━━━━━━━━━━━━━━\u001b[0m\u001b[37m━━\u001b[0m \u001b[1m0s\u001b[0m 31ms/step - accuracy: 0.9833 - auc: 0.9896 - loss: 0.1037 - precision: 0.9888 - recall: 0.9787"
     ]
    },
    {
     "name": "stderr",
     "output_type": "stream",
     "text": [
      " 50%|█████     | 5/10 [00:03<00:03,  1.62epoch/s, accuracy=0.977, auc=0.99, loss=0.109, precision=0.986, recall=0.968, val_accuracy=0.988, val_auc=0.986, val_loss=0.0731, val_precision=1, val_recall=0.976] "
     ]
    },
    {
     "name": "stdout",
     "output_type": "stream",
     "text": [
      "\u001b[1m14/14\u001b[0m \u001b[32m━━━━━━━━━━━━━━━━━━━━\u001b[0m\u001b[37m\u001b[0m \u001b[1m1s\u001b[0m 35ms/step - accuracy: 0.9825 - auc: 0.9896 - loss: 0.1044 - precision: 0.9884 - recall: 0.9774 - val_accuracy: 0.9881 - val_auc: 0.9861 - val_loss: 0.0731 - val_precision: 1.0000 - val_recall: 0.9762\n"
     ]
    },
    {
     "name": "stderr",
     "output_type": "stream",
     "text": []
    },
    {
     "name": "stdout",
     "output_type": "stream",
     "text": [
      "Epoch 6/10\n",
      "\u001b[1m 3/14\u001b[0m \u001b[32m━━━━\u001b[0m\u001b[37m━━━━━━━━━━━━━━━━\u001b[0m \u001b[1m0s\u001b[0m 30ms/step - accuracy: 0.9826 - auc: 0.9926 - loss: 0.0829 - precision: 1.0000 - recall: 0.9656"
     ]
    },
    {
     "name": "stderr",
     "output_type": "stream",
     "text": []
    },
    {
     "name": "stdout",
     "output_type": "stream",
     "text": [
      "\u001b[1m 7/14\u001b[0m \u001b[32m━━━━━━━━━━\u001b[0m\u001b[37m━━━━━━━━━━\u001b[0m \u001b[1m0s\u001b[0m 32ms/step - accuracy: 0.9795 - auc: 0.9887 - loss: 0.0993 - precision: 0.9943 - recall: 0.9654"
     ]
    },
    {
     "name": "stderr",
     "output_type": "stream",
     "text": []
    },
    {
     "name": "stdout",
     "output_type": "stream",
     "text": [
      "\u001b[1m 9/14\u001b[0m \u001b[32m━━━━━━━━━━━━\u001b[0m\u001b[37m━━━━━━━━\u001b[0m \u001b[1m0s\u001b[0m 33ms/step - accuracy: 0.9799 - auc: 0.9892 - loss: 0.0957 - precision: 0.9924 - recall: 0.9684"
     ]
    },
    {
     "name": "stderr",
     "output_type": "stream",
     "text": []
    },
    {
     "name": "stdout",
     "output_type": "stream",
     "text": [
      "\u001b[1m13/14\u001b[0m \u001b[32m━━━━━━━━━━━━━━━━━━\u001b[0m\u001b[37m━━\u001b[0m \u001b[1m0s\u001b[0m 33ms/step - accuracy: 0.9803 - auc: 0.9903 - loss: 0.0894 - precision: 0.9906 - recall: 0.9707"
     ]
    },
    {
     "name": "stderr",
     "output_type": "stream",
     "text": [
      " 60%|██████    | 6/10 [00:04<00:02,  1.67epoch/s, accuracy=0.982, auc=0.994, loss=0.0687, precision=0.986, recall=0.977, val_accuracy=0.988, val_auc=1, val_loss=0.0325, val_precision=1, val_recall=0.976]  "
     ]
    },
    {
     "name": "stdout",
     "output_type": "stream",
     "text": [
      "\u001b[1m14/14\u001b[0m \u001b[32m━━━━━━━━━━━━━━━━━━━━\u001b[0m\u001b[37m\u001b[0m \u001b[1m1s\u001b[0m 38ms/step - accuracy: 0.9805 - auc: 0.9907 - loss: 0.0867 - precision: 0.9900 - recall: 0.9716 - val_accuracy: 0.9881 - val_auc: 1.0000 - val_loss: 0.0325 - val_precision: 1.0000 - val_recall: 0.9762\n"
     ]
    },
    {
     "name": "stderr",
     "output_type": "stream",
     "text": []
    },
    {
     "name": "stdout",
     "output_type": "stream",
     "text": [
      "Epoch 7/10\n",
      "\u001b[1m 1/14\u001b[0m \u001b[32m━\u001b[0m\u001b[37m━━━━━━━━━━━━━━━━━━━\u001b[0m \u001b[1m1s\u001b[0m 84ms/step - accuracy: 0.9375 - auc: 0.9958 - loss: 0.1015 - precision: 0.9167 - recall: 0.9167"
     ]
    },
    {
     "name": "stderr",
     "output_type": "stream",
     "text": []
    },
    {
     "name": "stdout",
     "output_type": "stream",
     "text": [
      "\u001b[1m 5/14\u001b[0m \u001b[32m━━━━━━━\u001b[0m\u001b[37m━━━━━━━━━━━━━\u001b[0m \u001b[1m0s\u001b[0m 31ms/step - accuracy: 0.9622 - auc: 0.9974 - loss: 0.0682 - precision: 0.9523 - recall: 0.9651"
     ]
    },
    {
     "name": "stderr",
     "output_type": "stream",
     "text": []
    },
    {
     "name": "stdout",
     "output_type": "stream",
     "text": [
      "\u001b[1m 9/14\u001b[0m \u001b[32m━━━━━━━━━━━━\u001b[0m\u001b[37m━━━━━━━━\u001b[0m \u001b[1m0s\u001b[0m 31ms/step - accuracy: 0.9714 - auc: 0.9975 - loss: 0.0626 - precision: 0.9660 - recall: 0.9731"
     ]
    },
    {
     "name": "stderr",
     "output_type": "stream",
     "text": []
    },
    {
     "name": "stdout",
     "output_type": "stream",
     "text": [
      "\u001b[1m13/14\u001b[0m \u001b[32m━━━━━━━━━━━━━━━━━━\u001b[0m\u001b[37m━━\u001b[0m \u001b[1m0s\u001b[0m 30ms/step - accuracy: 0.9759 - auc: 0.9977 - loss: 0.0581 - precision: 0.9715 - recall: 0.9776"
     ]
    },
    {
     "name": "stderr",
     "output_type": "stream",
     "text": [
      " 70%|███████   | 7/10 [00:04<00:01,  1.73epoch/s, accuracy=0.982, auc=0.998, loss=0.0555, precision=0.978, recall=0.986, val_accuracy=0.988, val_auc=1, val_loss=0.0272, val_precision=1, val_recall=0.976]"
     ]
    },
    {
     "name": "stdout",
     "output_type": "stream",
     "text": [
      "\u001b[1m14/14\u001b[0m \u001b[32m━━━━━━━━━━━━━━━━━━━━\u001b[0m\u001b[37m\u001b[0m \u001b[1m1s\u001b[0m 34ms/step - accuracy: 0.9767 - auc: 0.9977 - loss: 0.0578 - precision: 0.9723 - recall: 0.9788 - val_accuracy: 0.9881 - val_auc: 1.0000 - val_loss: 0.0272 - val_precision: 1.0000 - val_recall: 0.9762\n"
     ]
    },
    {
     "name": "stderr",
     "output_type": "stream",
     "text": []
    },
    {
     "name": "stdout",
     "output_type": "stream",
     "text": [
      "Epoch 8/10\n",
      "\u001b[1m 3/14\u001b[0m \u001b[32m━━━━\u001b[0m\u001b[37m━━━━━━━━━━━━━━━━\u001b[0m \u001b[1m0s\u001b[0m 34ms/step - accuracy: 1.0000 - auc: 1.0000 - loss: 0.0123 - precision: 1.0000 - recall: 1.0000"
     ]
    },
    {
     "name": "stderr",
     "output_type": "stream",
     "text": []
    },
    {
     "name": "stdout",
     "output_type": "stream",
     "text": [
      "\u001b[1m 7/14\u001b[0m \u001b[32m━━━━━━━━━━\u001b[0m\u001b[37m━━━━━━━━━━\u001b[0m \u001b[1m0s\u001b[0m 33ms/step - accuracy: 0.9884 - auc: 0.9981 - loss: 0.0364 - precision: 1.0000 - recall: 0.9748"
     ]
    },
    {
     "name": "stderr",
     "output_type": "stream",
     "text": []
    },
    {
     "name": "stdout",
     "output_type": "stream",
     "text": [
      "\u001b[1m11/14\u001b[0m \u001b[32m━━━━━━━━━━━━━━━\u001b[0m\u001b[37m━━━━━\u001b[0m \u001b[1m0s\u001b[0m 31ms/step - accuracy: 0.9827 - auc: 0.9962 - loss: 0.0566 - precision: 0.9970 - recall: 0.9662"
     ]
    },
    {
     "name": "stderr",
     "output_type": "stream",
     "text": []
    },
    {
     "name": "stdout",
     "output_type": "stream",
     "text": [
      "\u001b[1m13/14\u001b[0m \u001b[32m━━━━━━━━━━━━━━━━━━\u001b[0m\u001b[37m━━\u001b[0m \u001b[1m0s\u001b[0m 30ms/step - accuracy: 0.9818 - auc: 0.9956 - loss: 0.0611 - precision: 0.9954 - recall: 0.9659"
     ]
    },
    {
     "name": "stderr",
     "output_type": "stream",
     "text": [
      " 80%|████████  | 8/10 [00:05<00:01,  1.77epoch/s, accuracy=0.975, auc=0.993, loss=0.0848, precision=0.986, recall=0.964, val_accuracy=0.988, val_auc=1, val_loss=0.0192, val_precision=1, val_recall=0.976]"
     ]
    },
    {
     "name": "stdout",
     "output_type": "stream",
     "text": [
      "\u001b[1m14/14\u001b[0m \u001b[32m━━━━━━━━━━━━━━━━━━━━\u001b[0m\u001b[37m\u001b[0m \u001b[1m1s\u001b[0m 35ms/step - accuracy: 0.9809 - auc: 0.9953 - loss: 0.0642 - precision: 0.9942 - recall: 0.9656 - val_accuracy: 0.9881 - val_auc: 1.0000 - val_loss: 0.0192 - val_precision: 1.0000 - val_recall: 0.9762\n"
     ]
    },
    {
     "name": "stderr",
     "output_type": "stream",
     "text": []
    },
    {
     "name": "stdout",
     "output_type": "stream",
     "text": [
      "Epoch 9/10\n",
      "\u001b[1m 3/14\u001b[0m \u001b[32m━━━━\u001b[0m\u001b[37m━━━━━━━━━━━━━━━━\u001b[0m \u001b[1m0s\u001b[0m 35ms/step - accuracy: 0.9809 - auc: 1.0000 - loss: 0.0249 - precision: 0.9676 - recall: 1.0000"
     ]
    },
    {
     "name": "stderr",
     "output_type": "stream",
     "text": []
    },
    {
     "name": "stdout",
     "output_type": "stream",
     "text": [
      "\u001b[1m 5/14\u001b[0m \u001b[32m━━━━━━━\u001b[0m\u001b[37m━━━━━━━━━━━━━\u001b[0m \u001b[1m0s\u001b[0m 34ms/step - accuracy: 0.9857 - auc: 1.0000 - loss: 0.0210 - precision: 0.9757 - recall: 1.0000"
     ]
    },
    {
     "name": "stderr",
     "output_type": "stream",
     "text": []
    },
    {
     "name": "stdout",
     "output_type": "stream",
     "text": [
      "\u001b[1m 9/14\u001b[0m \u001b[32m━━━━━━━━━━━━\u001b[0m\u001b[37m━━━━━━━━\u001b[0m \u001b[1m0s\u001b[0m 33ms/step - accuracy: 0.9886 - auc: 0.9994 - loss: 0.0233 - precision: 0.9827 - recall: 0.9968"
     ]
    },
    {
     "name": "stderr",
     "output_type": "stream",
     "text": []
    },
    {
     "name": "stdout",
     "output_type": "stream",
     "text": [
      "\u001b[1m13/14\u001b[0m \u001b[32m━━━━━━━━━━━━━━━━━━\u001b[0m\u001b[37m━━\u001b[0m \u001b[1m0s\u001b[0m 33ms/step - accuracy: 0.9875 - auc: 0.9981 - loss: 0.0343 - precision: 0.9856 - recall: 0.9911"
     ]
    },
    {
     "name": "stderr",
     "output_type": "stream",
     "text": [
      " 90%|█████████ | 9/10 [00:05<00:00,  1.79epoch/s, accuracy=0.984, auc=0.996, loss=0.0545, precision=0.986, recall=0.982, val_accuracy=0.988, val_auc=1, val_loss=0.0439, val_precision=1, val_recall=0.976]"
     ]
    },
    {
     "name": "stdout",
     "output_type": "stream",
     "text": [
      "\u001b[1m14/14\u001b[0m \u001b[32m━━━━━━━━━━━━━━━━━━━━\u001b[0m\u001b[37m\u001b[0m \u001b[1m1s\u001b[0m 37ms/step - accuracy: 0.9871 - auc: 0.9978 - loss: 0.0370 - precision: 0.9857 - recall: 0.9898 - val_accuracy: 0.9881 - val_auc: 0.9997 - val_loss: 0.0439 - val_precision: 1.0000 - val_recall: 0.9762\n"
     ]
    },
    {
     "name": "stderr",
     "output_type": "stream",
     "text": []
    },
    {
     "name": "stdout",
     "output_type": "stream",
     "text": [
      "Epoch 10/10\n",
      "\u001b[1m 3/14\u001b[0m \u001b[32m━━━━\u001b[0m\u001b[37m━━━━━━━━━━━━━━━━\u001b[0m \u001b[1m0s\u001b[0m 34ms/step - accuracy: 0.9844 - auc: 0.9991 - loss: 0.0363 - precision: 1.0000 - recall: 0.9730"
     ]
    },
    {
     "name": "stderr",
     "output_type": "stream",
     "text": []
    },
    {
     "name": "stdout",
     "output_type": "stream",
     "text": [
      "\u001b[1m 7/14\u001b[0m \u001b[32m━━━━━━━━━━\u001b[0m\u001b[37m━━━━━━━━━━\u001b[0m \u001b[1m0s\u001b[0m 32ms/step - accuracy: 0.9784 - auc: 0.9980 - loss: 0.0530 - precision: 0.9972 - recall: 0.9633"
     ]
    },
    {
     "name": "stderr",
     "output_type": "stream",
     "text": []
    },
    {
     "name": "stdout",
     "output_type": "stream",
     "text": [
      "\u001b[1m11/14\u001b[0m \u001b[32m━━━━━━━━━━━━━━━\u001b[0m\u001b[37m━━━━━\u001b[0m \u001b[1m0s\u001b[0m 31ms/step - accuracy: 0.9793 - auc: 0.9979 - loss: 0.0522 - precision: 0.9958 - recall: 0.9656"
     ]
    },
    {
     "name": "stderr",
     "output_type": "stream",
     "text": []
    },
    {
     "name": "stdout",
     "output_type": "stream",
     "text": [
      "\u001b[1m13/14\u001b[0m \u001b[32m━━━━━━━━━━━━━━━━━━\u001b[0m\u001b[37m━━\u001b[0m \u001b[1m0s\u001b[0m 30ms/step - accuracy: 0.9802 - auc: 0.9980 - loss: 0.0512 - precision: 0.9957 - recall: 0.9671"
     ]
    },
    {
     "name": "stderr",
     "output_type": "stream",
     "text": [
      "100%|██████████| 10/10 [00:06<00:00,  1.82epoch/s, accuracy=0.986, auc=0.998, loss=0.0458, precision=0.995, recall=0.977, val_accuracy=1, val_auc=1, val_loss=0.00673, val_precision=1, val_recall=1]      "
     ]
    },
    {
     "name": "stdout",
     "output_type": "stream",
     "text": [
      "\u001b[1m14/14\u001b[0m \u001b[32m━━━━━━━━━━━━━━━━━━━━\u001b[0m\u001b[37m\u001b[0m \u001b[1m1s\u001b[0m 35ms/step - accuracy: 0.9810 - auc: 0.9980 - loss: 0.0505 - precision: 0.9957 - recall: 0.9685 - val_accuracy: 1.0000 - val_auc: 1.0000 - val_loss: 0.0067 - val_precision: 1.0000 - val_recall: 1.0000\n"
     ]
    },
    {
     "name": "stderr",
     "output_type": "stream",
     "text": [
      "100%|██████████| 10/10 [00:06<00:00,  1.55epoch/s, accuracy=0.986, auc=0.998, loss=0.0458, precision=0.995, recall=0.977, val_accuracy=1, val_auc=1, val_loss=0.00673, val_precision=1, val_recall=1]"
     ]
    },
    {
     "name": "stdout",
     "output_type": "stream",
     "text": [
      "\u001b[1m1/4\u001b[0m \u001b[32m━━━━━\u001b[0m\u001b[37m━━━━━━━━━━━━━━━\u001b[0m \u001b[1m0s\u001b[0m 38ms/step - accuracy: 0.9062 - auc: 0.9742 - loss: 0.2527 - precision: 1.0000 - recall: 0.7857"
     ]
    },
    {
     "name": "stderr",
     "output_type": "stream",
     "text": [
      "\n"
     ]
    },
    {
     "name": "stdout",
     "output_type": "stream",
     "text": [
      "\u001b[1m4/4\u001b[0m \u001b[32m━━━━━━━━━━━━━━━━━━━━\u001b[0m\u001b[37m\u001b[0m \u001b[1m0s\u001b[0m 36ms/step - accuracy: 0.9545 - auc: 0.9870 - loss: 0.1368 - precision: 1.0000 - recall: 0.9063\n",
      "\n",
      "Test Metrics:\n",
      "accuracy: 0.9722\n",
      "auc: 0.9930\n",
      "loss: 0.0933\n",
      "precision: 1.0000\n",
      "recall: 0.9444\n",
      "F1 Score: 0.9714\n",
      "\u001b[1m1/1\u001b[0m \u001b[32m━━━━━━━━━━━━━━━━━━━━\u001b[0m\u001b[37m\u001b[0m \u001b[1m0s\u001b[0m 49ms/step\n",
      "\u001b[1m1/1\u001b[0m \u001b[32m━━━━━━━━━━━━━━━━━━━━\u001b[0m\u001b[37m\u001b[0m \u001b[1m0s\u001b[0m 23ms/step\n",
      "\u001b[1m1/1\u001b[0m \u001b[32m━━━━━━━━━━━━━━━━━━━━\u001b[0m\u001b[37m\u001b[0m \u001b[1m0s\u001b[0m 22ms/step\n",
      "\u001b[1m1/1\u001b[0m \u001b[32m━━━━━━━━━━━━━━━━━━━━\u001b[0m\u001b[37m\u001b[0m \u001b[1m0s\u001b[0m 43ms/step\n",
      "Mean Average Precision (MAP): 0.9938\n"
     ]
    },
    {
     "name": "stderr",
     "output_type": "stream",
     "text": [
      "2025-08-22 20:15:22.989483: W tensorflow/core/framework/local_rendezvous.cc:404] Local rendezvous is aborting with status: OUT_OF_RANGE: End of sequence\n"
     ]
    },
    {
     "data": {
      "image/png": "[encoded data removed]",
      "text/plain": [
       "<Figure size 1000x500 with 1 Axes>"
      ]
     },
     "metadata": {},
     "output_type": "display_data"
    },
    {
     "name": "stderr",
     "output_type": "stream",
     "text": [
      "WARNING:absl:You are saving your model as an HDF5 file via `model.save()` or `keras.saving.save_model(model)`. This file format is considered legacy. We recommend using instead the native Keras format, e.g. `model.save('my_model.keras')` or `keras.saving.save_model(model, 'my_model.keras')`. \n"
     ]
    },
    {
     "name": "stdout",
     "output_type": "stream",
     "text": [
      "Model saved as qr_classifier.h5\n",
      "Model saved in folder: qr_classifier_model\n",
      "\u001b[1m1/1\u001b[0m \u001b[32m━━━━━━━━━━━━━━━━━━━━\u001b[0m\u001b[37m\u001b[0m \u001b[1m0s\u001b[0m 36ms/step\n",
      "\n",
      "Prediction Score: 0.4972\n",
      "Prediction: Labeled (0)\n"
     ]
    },
    {
     "data": {
      "image/png": "[encoded data removed]",
      "text/plain": [
       "<Figure size 640x480 with 1 Axes>"
      ]
     },
     "metadata": {},
     "output_type": "display_data"
    }
   ],
   "source": [
    "import tensorflow as tf\n",
    "from tensorflow import keras\n",
    "from tensorflow.keras import layers\n",
    "import matplotlib.pyplot as plt\n",
    "import numpy as np\n",
    "from tensorflow.keras.preprocessing import image\n",
    "from tqdm.keras import TqdmCallback\n",
    "\n",
    "# =====================\n",
    "# Paths\n",
    "# =====================\n",
    "train_dir = \"/Users/naba/Desktop/freelance/data_qr/train\"\n",
    "val_dir = \"/Users/naba/Desktop/freelance/data_qr/val\"\n",
    "test_dir = \"/Users/naba/Desktop/freelance/data_qr/test\"\n",
    "\n",
    "img_size = (128, 128)\n",
    "batch_size = 32\n",
    "\n",
    "# =====================\n",
    "# Load datasets\n",
    "# =====================\n",
    "train_ds = tf.keras.utils.image_dataset_from_directory(\n",
    "    train_dir,\n",
    "    image_size=img_size,\n",
    "    batch_size=batch_size,\n",
    "    label_mode=\"binary\"\n",
    ")\n",
    "val_ds = tf.keras.utils.image_dataset_from_directory(\n",
    "    val_dir,\n",
    "    image_size=img_size,\n",
    "    batch_size=batch_size,\n",
    "    label_mode=\"binary\"\n",
    ")\n",
    "test_ds = tf.keras.utils.image_dataset_from_directory(\n",
    "    test_dir,\n",
    "    image_size=img_size,\n",
    "    batch_size=batch_size,\n",
    "    label_mode=\"binary\"\n",
    ")\n",
    "\n",
    "# Prefetch for performance\n",
    "train_ds = train_ds.prefetch(buffer_size=tf.data.AUTOTUNE)\n",
    "val_ds = val_ds.prefetch(buffer_size=tf.data.AUTOTUNE)\n",
    "test_ds = test_ds.prefetch(buffer_size=tf.data.AUTOTUNE)\n",
    "\n",
    "# =====================\n",
    "# Build Model\n",
    "# =====================\n",
    "model = keras.Sequential([\n",
    "    layers.Rescaling(1./255, input_shape=(128, 128, 3)),\n",
    "\n",
    "    layers.Conv2D(16, (3,3), activation='relu'),\n",
    "    layers.MaxPooling2D(),\n",
    "\n",
    "    layers.Conv2D(32, (3,3), activation='relu'),\n",
    "    layers.MaxPooling2D(),\n",
    "\n",
    "    layers.Flatten(),\n",
    "    layers.Dense(32, activation='relu'),\n",
    "    layers.Dropout(0.3),\n",
    "    layers.Dense(1, activation='sigmoid')  # binary classification\n",
    "])\n",
    "\n",
    "# Compile\n",
    "model.compile(\n",
    "    optimizer='adam',\n",
    "    loss='binary_crossentropy',\n",
    "    metrics=[\n",
    "        'accuracy',\n",
    "        tf.keras.metrics.AUC(name='auc'),\n",
    "        tf.keras.metrics.Precision(name='precision'),\n",
    "        tf.keras.metrics.Recall(name='recall')\n",
    "    ]\n",
    ")\n",
    "\n",
    "# =====================\n",
    "# Train\n",
    "# =====================\n",
    "history = model.fit(\n",
    "    train_ds,\n",
    "    validation_data=val_ds,\n",
    "    epochs=10,\n",
    "    callbacks=[TqdmCallback(verbose=1)]\n",
    ")\n",
    "\n",
    "# =====================\n",
    "# Evaluate on test set\n",
    "# =====================\n",
    "results = model.evaluate(test_ds, return_dict=True)\n",
    "print(\"\\nTest Metrics:\")\n",
    "for k, v in results.items():\n",
    "    print(f\"{k}: {v:.4f}\")\n",
    "\n",
    "# Compute F1 score manually\n",
    "precision = results['precision']\n",
    "recall = results['recall']\n",
    "f1 = 2 * (precision * recall) / (precision + recall + 1e-7)\n",
    "print(f\"F1 Score: {f1:.4f}\")\n",
    "\n",
    "# Compute MAP (approx as AP)\n",
    "y_true, y_pred = [], []\n",
    "for x, y in test_ds:\n",
    "    preds = model.predict(x)\n",
    "    y_true.extend(y.numpy().flatten())\n",
    "    y_pred.extend(preds.flatten())\n",
    "\n",
    "ap = tf.keras.metrics.AUC(curve=\"PR\")(y_true, y_pred).numpy()\n",
    "print(f\"Mean Average Precision (MAP): {ap:.4f}\")\n",
    "\n",
    "# =====================\n",
    "# Plot training history\n",
    "# =====================\n",
    "plt.figure(figsize=(10,5))\n",
    "plt.plot(history.history['accuracy'], label='train_acc')\n",
    "plt.plot(history.history['val_accuracy'], label='val_acc')\n",
    "plt.plot(history.history['auc'], label='train_auc')\n",
    "plt.plot(history.history['val_auc'], label='val_auc')\n",
    "plt.legend()\n",
    "plt.show()\n",
    "\n",
    "# =====================\n",
    "# Save Model\n",
    "# =====================\n",
    "model.save(\"qr_model.h5\")\n",
    "print(\"Model saved as qr_classifier.h5\")\n",
    "\n",
    "# model.save(\"qr_classifier_model\")\n",
    "print(\"Model saved in folder: qr_classifier_model\")\n",
    "\n",
    "# =====================\n",
    "# Single Image Prediction\n",
    "# =====================\n",
    "def predict_single_image(img_path, model, img_size=(128,128)):\n",
    "    img = image.load_img(img_path, target_size=img_size)\n",
    "    img_array = image.img_to_array(img)\n",
    "    img_array = np.expand_dims(img_array, axis=0)  # batch dimension\n",
    "    img_array = img_array / 255.0  # same scaling as training\n",
    "\n",
    "    prediction = model.predict(img_array)\n",
    "    pred_class = (prediction[0][0] > 0.5).astype(\"int\")  # 0 or 1\n",
    "\n",
    "    print(f\"\\nPrediction Score: {prediction[0][0]:.4f}\")\n",
    "    if pred_class == 0:\n",
    "        print(\"Prediction: Labeled (0)\")\n",
    "    else:\n",
    "        print(\"Prediction: Not Labeled (1)\")\n",
    "\n",
    "    plt.imshow(img)\n",
    "    plt.title(\"Labeled (0)\" if pred_class == 0 else \"Not Labeled (1)\")\n",
    "    plt.axis(\"off\")\n",
    "    plt.show()\n",
    "\n",
    "\n",
    "# Example usage:\n",
    "predict_single_image(\"/Users/naba/Desktop/freelance/data_qr/test/labeled/6_aug0.png\", model)\n"
   ]
  },
  {
   "cell_type": "code",
   "execution_count": null,
   "id": "e2e87779",
   "metadata": {},
   "outputs": [],
   "source": [
    "import tensorflow as tf\n",
    "from tensorflow import keras\n",
    "from tensorflow.keras import layers\n",
    "import matplotlib.pyplot as plt\n",
    "from tqdm.keras import TqdmCallback\n",
    "\n",
    "# Paths\n",
    "train_dir = \"/Users/naba/Desktop/freelance/sl_data_split/train\"\n",
    "val_dir = \"/Users/naba/Desktop/freelance/sl_data_split/val\"\n",
    "test_dir = \"/Users/naba/Desktop/freelance/sl_data_split/test\"\n",
    "\n",
    "# Load datasets\n",
    "img_size = (128, 128)\n",
    "batch_size = 32\n",
    "\n",
    "\n",
    "train_ds = tf.keras.utils.image_dataset_from_directory(\n",
    "    train_dir,\n",
    "    image_size=img_size,\n",
    "    batch_size=batch_size,\n",
    "    label_mode=\"binary\"\n",
    ")\n",
    "val_ds = tf.keras.utils.image_dataset_from_directory(\n",
    "    val_dir,\n",
    "    image_size=img_size,\n",
    "    batch_size=batch_size,\n",
    "    label_mode=\"binary\"\n",
    ")\n",
    "test_ds = tf.keras.utils.image_dataset_from_directory(\n",
    "    test_dir,\n",
    "    image_size=img_size,\n",
    "    batch_size=batch_size,\n",
    "    label_mode=\"binary\"\n",
    ")\n",
    "\n",
    "# Prefetching for performance\n",
    "train_ds = train_ds.prefetch(buffer_size=tf.data.AUTOTUNE)\n",
    "val_ds = val_ds.prefetch(buffer_size=tf.data.AUTOTUNE)\n",
    "test_ds = test_ds.prefetch(buffer_size=tf.data.AUTOTUNE)\n",
    "\n",
    "# Model\n",
    "model = keras.Sequential([\n",
    "    layers.Rescaling(1./255, input_shape=(128, 128, 3)),\n",
    "\n",
    "    layers.Conv2D(16, (3,3), activation='relu'),\n",
    "    layers.MaxPooling2D(),\n",
    "\n",
    "    layers.Conv2D(32, (3,3), activation='relu'),\n",
    "    layers.MaxPooling2D(),\n",
    "\n",
    "    layers.Flatten(),\n",
    "    layers.Dense(32, activation='relu'),\n",
    "    layers.Dropout(0.3),\n",
    "    layers.Dense(1, activation='sigmoid')  # binary classification\n",
    "])\n",
    "\n",
    "# Compile with additional metrics\n",
    "model.compile(\n",
    "    optimizer='adam',\n",
    "    loss='binary_crossentropy',\n",
    "    metrics=[\n",
    "        'accuracy',\n",
    "        tf.keras.metrics.AUC(name='auc'),  # AUC-ROC\n",
    "        tf.keras.metrics.Precision(name='precision'),\n",
    "        tf.keras.metrics.Recall(name='recall')\n",
    "    ]\n",
    ")\n",
    "\n",
    "# Train with tqdm callback\n",
    "history = model.fit(\n",
    "    train_ds,\n",
    "    validation_data=val_ds,\n",
    "    epochs=20,\n",
    "    callbacks=[TqdmCallback(verbose=1)]\n",
    ")\n",
    "\n",
    "# Evaluate on test set\n",
    "results = model.evaluate(test_ds, return_dict=True)\n",
    "print(\"\\nTest Metrics:\")\n",
    "for k, v in results.items():\n",
    "    print(f\"{k}: {v:.4f}\")\n",
    "\n",
    "# Compute F1 score manually from precision & recall\n",
    "precision = results['precision']\n",
    "recall = results['recall']\n",
    "f1 = 2 * (precision * recall) / (precision + recall + 1e-7)\n",
    "print(f\"F1 Score: {f1:.4f}\")\n",
    "\n",
    "# Compute MAP (Mean Average Precision) manually\n",
    "# For binary classification, MAP ≈ Average Precision\n",
    "y_true = []\n",
    "y_pred = []\n",
    "for x, y in test_ds:\n",
    "    preds = model.predict(x)\n",
    "    y_true.extend(y.numpy().flatten())\n",
    "    y_pred.extend(preds.flatten())\n",
    "\n",
    "ap = tf.keras.metrics.AUC(curve=\"PR\")(y_true, y_pred).numpy()\n",
    "print(f\"Mean Average Precision (MAP): {ap:.4f}\")\n",
    "\n",
    "# Plot training history\n",
    "plt.figure(figsize=(10,5))\n",
    "plt.plot(history.history['accuracy'], label='train_acc')\n",
    "plt.plot(history.history['val_accuracy'], label='val_acc')\n",
    "plt.plot(history.history['auc'], label='train_auc')\n",
    "plt.plot(history.history['val_auc'], label='val_auc')\n",
    "plt.legend()\n",
    "plt.show()\n"
   ]
  },
  {
   "cell_type": "code",
   "execution_count": null,
   "id": "21d4311d",
   "metadata": {},
   "outputs": [
    {
     "name": "stdout",
     "output_type": "stream",
     "text": [
      "Found 400 files belonging to 2 classes.\n",
      "Found 400 files belonging to 2 classes.\n",
      "Found 100 files belonging to 2 classes.\n"
     ]
    },
    {
     "name": "stderr",
     "output_type": "stream",
     "text": [
      "  0%|          | 0/20 [00:00<?, ?epoch/s]"
     ]
    },
    {
     "name": "stdout",
     "output_type": "stream",
     "text": [
      "Epoch 1/20\n"
     ]
    },
    {
     "name": "stderr",
     "output_type": "stream",
     "text": []
    },
    {
     "name": "stdout",
     "output_type": "stream",
     "text": [
      "\u001b[1m 2/13\u001b[0m \u001b[32m━━━\u001b[0m\u001b[37m━━━━━━━━━━━━━━━━━\u001b[0m \u001b[1m0s\u001b[0m 54ms/step - accuracy: 0.5078 - auc: 0.6093 - loss: 0.9490 - precision: 0.3333 - recall: 0.0513  "
     ]
    },
    {
     "name": "stderr",
     "output_type": "stream",
     "text": []
    },
    {
     "name": "stdout",
     "output_type": "stream",
     "text": [
      "\u001b[1m 6/13\u001b[0m \u001b[32m━━━━━━━━━\u001b[0m\u001b[37m━━━━━━━━━━━\u001b[0m \u001b[1m0s\u001b[0m 32ms/step - accuracy: 0.5392 - auc: 0.6037 - loss: 0.9704 - precision: 0.4827 - recall: 0.2072"
     ]
    },
    {
     "name": "stderr",
     "output_type": "stream",
     "text": []
    },
    {
     "name": "stdout",
     "output_type": "stream",
     "text": [
      "\u001b[1m11/13\u001b[0m \u001b[32m━━━━━━━━━━━━━━━━\u001b[0m\u001b[37m━━━━\u001b[0m \u001b[1m0s\u001b[0m 28ms/step - accuracy: 0.5834 - auc: 0.6399 - loss: 0.8897 - precision: 0.5757 - recall: 0.3566"
     ]
    },
    {
     "name": "stderr",
     "output_type": "stream",
     "text": []
    },
    {
     "name": "stdout",
     "output_type": "stream",
     "text": [
      "\u001b[1m13/13\u001b[0m \u001b[32m━━━━━━━━━━━━━━━━━━━━\u001b[0m\u001b[37m\u001b[0m \u001b[1m0s\u001b[0m 50ms/step - accuracy: 0.5969 - auc: 0.6570 - loss: 0.8596 - precision: 0.6001 - recall: 0.3849"
     ]
    },
    {
     "name": "stderr",
     "output_type": "stream",
     "text": [
      "  5%|▌         | 1/20 [00:02<00:38,  2.01s/epoch, accuracy=0.673, auc=0.754, loss=0.687, precision=0.735, recall=0.54, val_accuracy=0.923, val_auc=0.999, val_loss=0.268, val_precision=1, val_recall=0.845]"
     ]
    },
    {
     "name": "stdout",
     "output_type": "stream",
     "text": [
      "\u001b[1m13/13\u001b[0m \u001b[32m━━━━━━━━━━━━━━━━━━━━\u001b[0m\u001b[37m\u001b[0m \u001b[1m2s\u001b[0m 92ms/step - accuracy: 0.6023 - auc: 0.6639 - loss: 0.8473 - precision: 0.6097 - recall: 0.3960 - val_accuracy: 0.9225 - val_auc: 0.9987 - val_loss: 0.2675 - val_precision: 1.0000 - val_recall: 0.8450\n"
     ]
    },
    {
     "name": "stderr",
     "output_type": "stream",
     "text": []
    },
    {
     "name": "stdout",
     "output_type": "stream",
     "text": [
      "Epoch 2/20\n",
      "\u001b[1m 1/13\u001b[0m \u001b[32m━\u001b[0m\u001b[37m━━━━━━━━━━━━━━━━━━━\u001b[0m \u001b[1m0s\u001b[0m 51ms/step - accuracy: 0.8125 - auc: 0.9292 - loss: 0.3427 - precision: 0.8750 - recall: 0.5833"
     ]
    },
    {
     "name": "stderr",
     "output_type": "stream",
     "text": []
    },
    {
     "name": "stdout",
     "output_type": "stream",
     "text": [
      "\u001b[1m 5/13\u001b[0m \u001b[32m━━━━━━━\u001b[0m\u001b[37m━━━━━━━━━━━━━\u001b[0m \u001b[1m0s\u001b[0m 30ms/step - accuracy: 0.8332 - auc: 0.9463 - loss: 0.3341 - precision: 0.9059 - recall: 0.6722"
     ]
    },
    {
     "name": "stderr",
     "output_type": "stream",
     "text": []
    },
    {
     "name": "stdout",
     "output_type": "stream",
     "text": [
      "\u001b[1m 9/13\u001b[0m \u001b[32m━━━━━━━━━━━━━\u001b[0m\u001b[37m━━━━━━━\u001b[0m \u001b[1m0s\u001b[0m 28ms/step - accuracy: 0.8505 - auc: 0.9553 - loss: 0.3115 - precision: 0.9198 - recall: 0.7174"
     ]
    },
    {
     "name": "stderr",
     "output_type": "stream",
     "text": []
    },
    {
     "name": "stdout",
     "output_type": "stream",
     "text": [
      "\u001b[1m11/13\u001b[0m \u001b[32m━━━━━━━━━━━━━━━━\u001b[0m\u001b[37m━━━━\u001b[0m \u001b[1m0s\u001b[0m 28ms/step - accuracy: 0.8539 - auc: 0.9556 - loss: 0.3088 - precision: 0.9173 - recall: 0.7354"
     ]
    },
    {
     "name": "stderr",
     "output_type": "stream",
     "text": [
      " 10%|█         | 2/20 [00:02<00:20,  1.16s/epoch, accuracy=0.868, auc=0.951, loss=0.302, precision=0.889, recall=0.84, val_accuracy=0.99, val_auc=1, val_loss=0.0496, val_precision=1, val_recall=0.98]     "
     ]
    },
    {
     "name": "stdout",
     "output_type": "stream",
     "text": [
      "\u001b[1m13/13\u001b[0m \u001b[32m━━━━━━━━━━━━━━━━━━━━\u001b[0m\u001b[37m\u001b[0m \u001b[1m1s\u001b[0m 41ms/step - accuracy: 0.8571 - auc: 0.9550 - loss: 0.3067 - precision: 0.9120 - recall: 0.7578 - val_accuracy: 0.9900 - val_auc: 0.9996 - val_loss: 0.0496 - val_precision: 1.0000 - val_recall: 0.9800\n"
     ]
    },
    {
     "name": "stderr",
     "output_type": "stream",
     "text": []
    },
    {
     "name": "stdout",
     "output_type": "stream",
     "text": [
      "Epoch 3/20\n",
      "\u001b[1m 3/13\u001b[0m \u001b[32m━━━━\u001b[0m\u001b[37m━━━━━━━━━━━━━━━━\u001b[0m \u001b[1m0s\u001b[0m 39ms/step - accuracy: 0.9115 - auc: 0.9869 - loss: 0.1855 - precision: 0.9799 - recall: 0.8425"
     ]
    },
    {
     "name": "stderr",
     "output_type": "stream",
     "text": []
    },
    {
     "name": "stdout",
     "output_type": "stream",
     "text": [
      "\u001b[1m 7/13\u001b[0m \u001b[32m━━━━━━━━━━\u001b[0m\u001b[37m━━━━━━━━━━\u001b[0m \u001b[1m0s\u001b[0m 34ms/step - accuracy: 0.9031 - auc: 0.9791 - loss: 0.2254 - precision: 0.9680 - recall: 0.8415"
     ]
    },
    {
     "name": "stderr",
     "output_type": "stream",
     "text": []
    },
    {
     "name": "stdout",
     "output_type": "stream",
     "text": [
      "\u001b[1m11/13\u001b[0m \u001b[32m━━━━━━━━━━━━━━━━\u001b[0m\u001b[37m━━━━\u001b[0m \u001b[1m0s\u001b[0m 32ms/step - accuracy: 0.9041 - auc: 0.9744 - loss: 0.2358 - precision: 0.9554 - recall: 0.8545"
     ]
    },
    {
     "name": "stderr",
     "output_type": "stream",
     "text": [
      " 15%|█▌        | 3/20 [00:03<00:15,  1.12epoch/s, accuracy=0.913, auc=0.968, loss=0.243, precision=0.923, recall=0.9, val_accuracy=0.993, val_auc=1, val_loss=0.0219, val_precision=1, val_recall=0.985]"
     ]
    },
    {
     "name": "stdout",
     "output_type": "stream",
     "text": [
      "\u001b[1m13/13\u001b[0m \u001b[32m━━━━━━━━━━━━━━━━━━━━\u001b[0m\u001b[37m\u001b[0m \u001b[1m1s\u001b[0m 44ms/step - accuracy: 0.9058 - auc: 0.9731 - loss: 0.2371 - precision: 0.9485 - recall: 0.8639 - val_accuracy: 0.9925 - val_auc: 1.0000 - val_loss: 0.0219 - val_precision: 1.0000 - val_recall: 0.9850\n"
     ]
    },
    {
     "name": "stderr",
     "output_type": "stream",
     "text": []
    },
    {
     "name": "stdout",
     "output_type": "stream",
     "text": [
      "Epoch 4/20\n",
      "\u001b[1m 3/13\u001b[0m \u001b[32m━━━━\u001b[0m\u001b[37m━━━━━━━━━━━━━━━━\u001b[0m \u001b[1m0s\u001b[0m 33ms/step - accuracy: 0.9653 - auc: 0.9987 - loss: 0.0607 - precision: 0.9926 - recall: 0.9357"
     ]
    },
    {
     "name": "stderr",
     "output_type": "stream",
     "text": []
    },
    {
     "name": "stdout",
     "output_type": "stream",
     "text": [
      "\u001b[1m 7/13\u001b[0m \u001b[32m━━━━━━━━━━\u001b[0m\u001b[37m━━━━━━━━━━\u001b[0m \u001b[1m0s\u001b[0m 28ms/step - accuracy: 0.9636 - auc: 0.9980 - loss: 0.0900 - precision: 0.9896 - recall: 0.9357"
     ]
    },
    {
     "name": "stderr",
     "output_type": "stream",
     "text": []
    },
    {
     "name": "stdout",
     "output_type": "stream",
     "text": [
      "\u001b[1m12/13\u001b[0m \u001b[32m━━━━━━━━━━━━━━━━━━\u001b[0m\u001b[37m━━\u001b[0m \u001b[1m0s\u001b[0m 26ms/step - accuracy: 0.9663 - auc: 0.9983 - loss: 0.0873 - precision: 0.9910 - recall: 0.9395"
     ]
    },
    {
     "name": "stderr",
     "output_type": "stream",
     "text": [
      " 20%|██        | 4/20 [00:03<00:12,  1.27epoch/s, accuracy=0.973, auc=0.999, loss=0.0727, precision=0.995, recall=0.95, val_accuracy=0.993, val_auc=1, val_loss=0.017, val_precision=1, val_recall=0.985]"
     ]
    },
    {
     "name": "stdout",
     "output_type": "stream",
     "text": [
      "\u001b[1m13/13\u001b[0m \u001b[32m━━━━━━━━━━━━━━━━━━━━\u001b[0m\u001b[37m\u001b[0m \u001b[1m1s\u001b[0m 46ms/step - accuracy: 0.9672 - auc: 0.9984 - loss: 0.0853 - precision: 0.9916 - recall: 0.9410 - val_accuracy: 0.9925 - val_auc: 1.0000 - val_loss: 0.0170 - val_precision: 1.0000 - val_recall: 0.9850\n"
     ]
    },
    {
     "name": "stderr",
     "output_type": "stream",
     "text": []
    },
    {
     "name": "stdout",
     "output_type": "stream",
     "text": [
      "Epoch 5/20\n",
      "\u001b[1m 3/13\u001b[0m \u001b[32m━━━━\u001b[0m\u001b[37m━━━━━━━━━━━━━━━━\u001b[0m \u001b[1m0s\u001b[0m 28ms/step - accuracy: 0.9722 - auc: 0.9990 - loss: 0.0619 - precision: 1.0000 - recall: 0.9349"
     ]
    },
    {
     "name": "stderr",
     "output_type": "stream",
     "text": []
    },
    {
     "name": "stdout",
     "output_type": "stream",
     "text": [
      "\u001b[1m 7/13\u001b[0m \u001b[32m━━━━━━━━━━\u001b[0m\u001b[37m━━━━━━━━━━\u001b[0m \u001b[1m0s\u001b[0m 28ms/step - accuracy: 0.9784 - auc: 0.9993 - loss: 0.0583 - precision: 0.9987 - recall: 0.9535"
     ]
    },
    {
     "name": "stderr",
     "output_type": "stream",
     "text": []
    },
    {
     "name": "stdout",
     "output_type": "stream",
     "text": [
      "\u001b[1m10/13\u001b[0m \u001b[32m━━━━━━━━━━━━━━━\u001b[0m\u001b[37m━━━━━\u001b[0m \u001b[1m0s\u001b[0m 27ms/step - accuracy: 0.9779 - auc: 0.9988 - loss: 0.0635 - precision: 0.9934 - recall: 0.9590"
     ]
    },
    {
     "name": "stderr",
     "output_type": "stream",
     "text": []
    },
    {
     "name": "stdout",
     "output_type": "stream",
     "text": [
      "\u001b[1m13/13\u001b[0m \u001b[32m━━━━━━━━━━━━━━━━━━━━\u001b[0m\u001b[37m\u001b[0m \u001b[1m0s\u001b[0m 26ms/step - accuracy: 0.9766 - auc: 0.9980 - loss: 0.0727 - precision: 0.9889 - recall: 0.9616"
     ]
    },
    {
     "name": "stderr",
     "output_type": "stream",
     "text": [
      " 25%|██▌       | 5/20 [00:04<00:10,  1.42epoch/s, accuracy=0.967, auc=0.994, loss=0.122, precision=0.97, recall=0.965, val_accuracy=0.993, val_auc=0.995, val_loss=0.0508, val_precision=1, val_recall=0.985]"
     ]
    },
    {
     "name": "stdout",
     "output_type": "stream",
     "text": [
      "\u001b[1m13/13\u001b[0m \u001b[32m━━━━━━━━━━━━━━━━━━━━\u001b[0m\u001b[37m\u001b[0m \u001b[1m1s\u001b[0m 41ms/step - accuracy: 0.9759 - auc: 0.9976 - loss: 0.0763 - precision: 0.9875 - recall: 0.9618 - val_accuracy: 0.9925 - val_auc: 0.9950 - val_loss: 0.0508 - val_precision: 1.0000 - val_recall: 0.9850\n"
     ]
    },
    {
     "name": "stderr",
     "output_type": "stream",
     "text": []
    },
    {
     "name": "stdout",
     "output_type": "stream",
     "text": [
      "Epoch 6/20\n",
      "\u001b[1m 1/13\u001b[0m \u001b[32m━\u001b[0m\u001b[37m━━━━━━━━━━━━━━━━━━━\u001b[0m \u001b[1m0s\u001b[0m 52ms/step - accuracy: 0.9375 - auc: 0.9737 - loss: 0.4051 - precision: 1.0000 - recall: 0.8947"
     ]
    },
    {
     "name": "stderr",
     "output_type": "stream",
     "text": []
    },
    {
     "name": "stdout",
     "output_type": "stream",
     "text": [
      "\u001b[1m 6/13\u001b[0m \u001b[32m━━━━━━━━━\u001b[0m\u001b[37m━━━━━━━━━━━\u001b[0m \u001b[1m0s\u001b[0m 24ms/step - accuracy: 0.9457 - auc: 0.9778 - loss: 0.2725 - precision: 0.9855 - recall: 0.9099"
     ]
    },
    {
     "name": "stderr",
     "output_type": "stream",
     "text": []
    },
    {
     "name": "stdout",
     "output_type": "stream",
     "text": [
      "\u001b[1m11/13\u001b[0m \u001b[32m━━━━━━━━━━━━━━━━\u001b[0m\u001b[37m━━━━\u001b[0m \u001b[1m0s\u001b[0m 24ms/step - accuracy: 0.9549 - auc: 0.9824 - loss: 0.2073 - precision: 0.9805 - recall: 0.9315"
     ]
    },
    {
     "name": "stderr",
     "output_type": "stream",
     "text": [
      " 30%|███       | 6/20 [00:04<00:08,  1.56epoch/s, accuracy=0.973, auc=0.989, loss=0.134, precision=0.975, recall=0.97, val_accuracy=0.995, val_auc=1, val_loss=0.0103, val_precision=1, val_recall=0.99]     "
     ]
    },
    {
     "name": "stdout",
     "output_type": "stream",
     "text": [
      "\u001b[1m13/13\u001b[0m \u001b[32m━━━━━━━━━━━━━━━━━━━━\u001b[0m\u001b[37m\u001b[0m \u001b[1m1s\u001b[0m 38ms/step - accuracy: 0.9586 - auc: 0.9837 - loss: 0.1919 - precision: 0.9792 - recall: 0.9397 - val_accuracy: 0.9950 - val_auc: 1.0000 - val_loss: 0.0103 - val_precision: 1.0000 - val_recall: 0.9900\n"
     ]
    },
    {
     "name": "stderr",
     "output_type": "stream",
     "text": []
    },
    {
     "name": "stdout",
     "output_type": "stream",
     "text": [
      "Epoch 7/20\n",
      "\u001b[1m 1/13\u001b[0m \u001b[32m━\u001b[0m\u001b[37m━━━━━━━━━━━━━━━━━━━\u001b[0m \u001b[1m0s\u001b[0m 50ms/step - accuracy: 0.9688 - auc: 1.0000 - loss: 0.1332 - precision: 1.0000 - recall: 0.9412"
     ]
    },
    {
     "name": "stderr",
     "output_type": "stream",
     "text": []
    },
    {
     "name": "stdout",
     "output_type": "stream",
     "text": [
      "\u001b[1m 6/13\u001b[0m \u001b[32m━━━━━━━━━\u001b[0m\u001b[37m━━━━━━━━━━━\u001b[0m \u001b[1m0s\u001b[0m 25ms/step - accuracy: 0.9608 - auc: 0.9847 - loss: 0.2415 - precision: 0.9855 - recall: 0.9417"
     ]
    },
    {
     "name": "stderr",
     "output_type": "stream",
     "text": []
    },
    {
     "name": "stdout",
     "output_type": "stream",
     "text": [
      "\u001b[1m11/13\u001b[0m \u001b[32m━━━━━━━━━━━━━━━━\u001b[0m\u001b[37m━━━━\u001b[0m \u001b[1m0s\u001b[0m 25ms/step - accuracy: 0.9668 - auc: 0.9879 - loss: 0.1930 - precision: 0.9865 - recall: 0.9510"
     ]
    },
    {
     "name": "stderr",
     "output_type": "stream",
     "text": [
      " 35%|███▌      | 7/20 [00:05<00:07,  1.66epoch/s, accuracy=0.98, auc=0.994, loss=0.0995, precision=0.99, recall=0.97, val_accuracy=1, val_auc=1, val_loss=0.00148, val_precision=1, val_recall=1]       "
     ]
    },
    {
     "name": "stdout",
     "output_type": "stream",
     "text": [
      "\u001b[1m13/13\u001b[0m \u001b[32m━━━━━━━━━━━━━━━━━━━━\u001b[0m\u001b[37m\u001b[0m \u001b[1m1s\u001b[0m 38ms/step - accuracy: 0.9696 - auc: 0.9893 - loss: 0.1732 - precision: 0.9872 - recall: 0.9550 - val_accuracy: 1.0000 - val_auc: 1.0000 - val_loss: 0.0015 - val_precision: 1.0000 - val_recall: 1.0000\n"
     ]
    },
    {
     "name": "stderr",
     "output_type": "stream",
     "text": []
    },
    {
     "name": "stdout",
     "output_type": "stream",
     "text": [
      "Epoch 8/20\n",
      "\u001b[1m 3/13\u001b[0m \u001b[32m━━━━\u001b[0m\u001b[37m━━━━━━━━━━━━━━━━\u001b[0m \u001b[1m0s\u001b[0m 32ms/step - accuracy: 0.9965 - auc: 0.9963 - loss: 0.0415 - precision: 0.9936 - recall: 1.0000"
     ]
    },
    {
     "name": "stderr",
     "output_type": "stream",
     "text": []
    },
    {
     "name": "stdout",
     "output_type": "stream",
     "text": [
      "\u001b[1m 8/13\u001b[0m \u001b[32m━━━━━━━━━━━━\u001b[0m\u001b[37m━━━━━━━━\u001b[0m \u001b[1m0s\u001b[0m 26ms/step - accuracy: 0.9873 - auc: 0.9935 - loss: 0.1026 - precision: 0.9840 - recall: 0.9910"
     ]
    },
    {
     "name": "stderr",
     "output_type": "stream",
     "text": []
    },
    {
     "name": "stdout",
     "output_type": "stream",
     "text": [
      "\u001b[1m13/13\u001b[0m \u001b[32m━━━━━━━━━━━━━━━━━━━━\u001b[0m\u001b[37m\u001b[0m \u001b[1m0s\u001b[0m 26ms/step - accuracy: 0.9868 - auc: 0.9927 - loss: 0.1056 - precision: 0.9855 - recall: 0.9881"
     ]
    },
    {
     "name": "stderr",
     "output_type": "stream",
     "text": [
      " 40%|████      | 8/20 [00:05<00:07,  1.71epoch/s, accuracy=0.988, auc=0.992, loss=0.099, precision=0.99, recall=0.985, val_accuracy=1, val_auc=1, val_loss=0.000318, val_precision=1, val_recall=1]"
     ]
    },
    {
     "name": "stdout",
     "output_type": "stream",
     "text": [
      "\u001b[1m13/13\u001b[0m \u001b[32m━━━━━━━━━━━━━━━━━━━━\u001b[0m\u001b[37m\u001b[0m \u001b[1m1s\u001b[0m 40ms/step - accuracy: 0.9869 - auc: 0.9926 - loss: 0.1051 - precision: 0.9859 - recall: 0.9879 - val_accuracy: 1.0000 - val_auc: 1.0000 - val_loss: 3.1840e-04 - val_precision: 1.0000 - val_recall: 1.0000\n"
     ]
    },
    {
     "name": "stderr",
     "output_type": "stream",
     "text": []
    },
    {
     "name": "stdout",
     "output_type": "stream",
     "text": [
      "Epoch 9/20\n",
      "\u001b[1m 1/13\u001b[0m \u001b[32m━\u001b[0m\u001b[37m━━━━━━━━━━━━━━━━━━━\u001b[0m \u001b[1m0s\u001b[0m 50ms/step - accuracy: 1.0000 - auc: 1.0000 - loss: 0.0026 - precision: 1.0000 - recall: 1.0000"
     ]
    },
    {
     "name": "stderr",
     "output_type": "stream",
     "text": []
    },
    {
     "name": "stdout",
     "output_type": "stream",
     "text": [
      "\u001b[1m 7/13\u001b[0m \u001b[32m━━━━━━━━━━\u001b[0m\u001b[37m━━━━━━━━━━\u001b[0m \u001b[1m0s\u001b[0m 24ms/step - accuracy: 1.0000 - auc: 1.0000 - loss: 0.0037 - precision: 1.0000 - recall: 1.0000"
     ]
    },
    {
     "name": "stderr",
     "output_type": "stream",
     "text": []
    },
    {
     "name": "stdout",
     "output_type": "stream",
     "text": [
      "\u001b[1m10/13\u001b[0m \u001b[32m━━━━━━━━━━━━━━━\u001b[0m\u001b[37m━━━━━\u001b[0m \u001b[1m0s\u001b[0m 24ms/step - accuracy: 1.0000 - auc: 1.0000 - loss: 0.0036 - precision: 1.0000 - recall: 1.0000"
     ]
    },
    {
     "name": "stderr",
     "output_type": "stream",
     "text": []
    },
    {
     "name": "stdout",
     "output_type": "stream",
     "text": [
      "\u001b[1m13/13\u001b[0m \u001b[32m━━━━━━━━━━━━━━━━━━━━\u001b[0m\u001b[37m\u001b[0m \u001b[1m0s\u001b[0m 23ms/step - accuracy: 0.9998 - auc: 1.0000 - loss: 0.0042 - precision: 1.0000 - recall: 0.9996"
     ]
    },
    {
     "name": "stderr",
     "output_type": "stream",
     "text": [
      " 45%|████▌     | 9/20 [00:06<00:06,  1.78epoch/s, accuracy=0.998, auc=1, loss=0.013, precision=1, recall=0.995, val_accuracy=1, val_auc=1, val_loss=0.000547, val_precision=1, val_recall=1]       "
     ]
    },
    {
     "name": "stdout",
     "output_type": "stream",
     "text": [
      "\u001b[1m13/13\u001b[0m \u001b[32m━━━━━━━━━━━━━━━━━━━━\u001b[0m\u001b[37m\u001b[0m \u001b[1m1s\u001b[0m 38ms/step - accuracy: 0.9996 - auc: 1.0000 - loss: 0.0048 - precision: 1.0000 - recall: 0.9993 - val_accuracy: 1.0000 - val_auc: 1.0000 - val_loss: 5.4733e-04 - val_precision: 1.0000 - val_recall: 1.0000\n"
     ]
    },
    {
     "name": "stderr",
     "output_type": "stream",
     "text": []
    },
    {
     "name": "stdout",
     "output_type": "stream",
     "text": [
      "Epoch 10/20\n",
      "\u001b[1m 4/13\u001b[0m \u001b[32m━━━━━━\u001b[0m\u001b[37m━━━━━━━━━━━━━━\u001b[0m \u001b[1m0s\u001b[0m 24ms/step - accuracy: 0.9980 - auc: 1.0000 - loss: 0.0039 - precision: 0.9954 - recall: 1.0000    "
     ]
    },
    {
     "name": "stderr",
     "output_type": "stream",
     "text": []
    },
    {
     "name": "stdout",
     "output_type": "stream",
     "text": [
      "\u001b[1m 9/13\u001b[0m \u001b[32m━━━━━━━━━━━━━\u001b[0m\u001b[37m━━━━━━━\u001b[0m \u001b[1m0s\u001b[0m 24ms/step - accuracy: 0.9940 - auc: 0.9972 - loss: 0.0363 - precision: 0.9924 - recall: 0.9945"
     ]
    },
    {
     "name": "stderr",
     "output_type": "stream",
     "text": []
    },
    {
     "name": "stdout",
     "output_type": "stream",
     "text": [
      "\u001b[1m12/13\u001b[0m \u001b[32m━━━━━━━━━━━━━━━━━━\u001b[0m\u001b[37m━━\u001b[0m \u001b[1m0s\u001b[0m 24ms/step - accuracy: 0.9926 - auc: 0.9971 - loss: 0.0408 - precision: 0.9915 - recall: 0.9930"
     ]
    },
    {
     "name": "stderr",
     "output_type": "stream",
     "text": [
      " 50%|█████     | 10/20 [00:06<00:05,  1.83epoch/s, accuracy=0.99, auc=0.997, loss=0.0499, precision=0.99, recall=0.99, val_accuracy=1, val_auc=1, val_loss=1.06e-6, val_precision=1, val_recall=1]"
     ]
    },
    {
     "name": "stdout",
     "output_type": "stream",
     "text": [
      "\u001b[1m13/13\u001b[0m \u001b[32m━━━━━━━━━━━━━━━━━━━━\u001b[0m\u001b[37m\u001b[0m \u001b[1m0s\u001b[0m 37ms/step - accuracy: 0.9922 - auc: 0.9971 - loss: 0.0421 - precision: 0.9913 - recall: 0.9926 - val_accuracy: 1.0000 - val_auc: 1.0000 - val_loss: 1.0621e-06 - val_precision: 1.0000 - val_recall: 1.0000\n"
     ]
    },
    {
     "name": "stderr",
     "output_type": "stream",
     "text": []
    },
    {
     "name": "stdout",
     "output_type": "stream",
     "text": [
      "Epoch 11/20\n",
      "\u001b[1m 1/13\u001b[0m \u001b[32m━\u001b[0m\u001b[37m━━━━━━━━━━━━━━━━━━━\u001b[0m \u001b[1m0s\u001b[0m 46ms/step - accuracy: 0.9688 - auc: 1.0000 - loss: 0.1079 - precision: 0.9333 - recall: 1.0000"
     ]
    },
    {
     "name": "stderr",
     "output_type": "stream",
     "text": []
    },
    {
     "name": "stdout",
     "output_type": "stream",
     "text": [
      "\u001b[1m 7/13\u001b[0m \u001b[32m━━━━━━━━━━\u001b[0m\u001b[37m━━━━━━━━━━\u001b[0m \u001b[1m0s\u001b[0m 23ms/step - accuracy: 0.9750 - auc: 0.9931 - loss: 0.0933 - precision: 0.9726 - recall: 0.9683"
     ]
    },
    {
     "name": "stderr",
     "output_type": "stream",
     "text": []
    },
    {
     "name": "stdout",
     "output_type": "stream",
     "text": [
      "\u001b[1m12/13\u001b[0m \u001b[32m━━━━━━━━━━━━━━━━━━\u001b[0m\u001b[37m━━\u001b[0m \u001b[1m0s\u001b[0m 24ms/step - accuracy: 0.9764 - auc: 0.9931 - loss: 0.0883 - precision: 0.9812 - recall: 0.9660"
     ]
    },
    {
     "name": "stderr",
     "output_type": "stream",
     "text": [
      " 55%|█████▌    | 11/20 [00:07<00:04,  1.89epoch/s, accuracy=0.98, auc=0.994, loss=0.0671, precision=0.99, recall=0.97, val_accuracy=0.998, val_auc=1, val_loss=0.00245, val_precision=0.995, val_recall=1]"
     ]
    },
    {
     "name": "stdout",
     "output_type": "stream",
     "text": [
      "\u001b[1m13/13\u001b[0m \u001b[32m━━━━━━━━━━━━━━━━━━━━\u001b[0m\u001b[37m\u001b[0m \u001b[1m0s\u001b[0m 37ms/step - accuracy: 0.9770 - auc: 0.9933 - loss: 0.0853 - precision: 0.9825 - recall: 0.9666 - val_accuracy: 0.9975 - val_auc: 1.0000 - val_loss: 0.0025 - val_precision: 0.9950 - val_recall: 1.0000\n"
     ]
    },
    {
     "name": "stderr",
     "output_type": "stream",
     "text": []
    },
    {
     "name": "stdout",
     "output_type": "stream",
     "text": [
      "Epoch 12/20\n",
      "\u001b[1m 1/13\u001b[0m \u001b[32m━\u001b[0m\u001b[37m━━━━━━━━━━━━━━━━━━━\u001b[0m \u001b[1m0s\u001b[0m 63ms/step - accuracy: 0.9688 - auc: 1.0000 - loss: 0.0506 - precision: 0.9333 - recall: 1.0000"
     ]
    },
    {
     "name": "stderr",
     "output_type": "stream",
     "text": []
    },
    {
     "name": "stdout",
     "output_type": "stream",
     "text": [
      "\u001b[1m 6/13\u001b[0m \u001b[32m━━━━━━━━━\u001b[0m\u001b[37m━━━━━━━━━━━\u001b[0m \u001b[1m0s\u001b[0m 24ms/step - accuracy: 0.9721 - auc: 0.9845 - loss: 0.1238 - precision: 0.9471 - recall: 1.0000"
     ]
    },
    {
     "name": "stderr",
     "output_type": "stream",
     "text": []
    },
    {
     "name": "stdout",
     "output_type": "stream",
     "text": [
      "\u001b[1m11/13\u001b[0m \u001b[32m━━━━━━━━━━━━━━━━\u001b[0m\u001b[37m━━━━\u001b[0m \u001b[1m0s\u001b[0m 24ms/step - accuracy: 0.9781 - auc: 0.9880 - loss: 0.0958 - precision: 0.9620 - recall: 0.9964"
     ]
    },
    {
     "name": "stderr",
     "output_type": "stream",
     "text": [
      " 60%|██████    | 12/20 [00:07<00:04,  1.89epoch/s, accuracy=0.985, auc=0.992, loss=0.0638, precision=0.985, recall=0.985, val_accuracy=0.998, val_auc=1, val_loss=0.00727, val_precision=1, val_recall=0.995]"
     ]
    },
    {
     "name": "stdout",
     "output_type": "stream",
     "text": [
      "\u001b[1m13/13\u001b[0m \u001b[32m━━━━━━━━━━━━━━━━━━━━\u001b[0m\u001b[37m\u001b[0m \u001b[1m1s\u001b[0m 38ms/step - accuracy: 0.9795 - auc: 0.9888 - loss: 0.0891 - precision: 0.9669 - recall: 0.9939 - val_accuracy: 0.9975 - val_auc: 1.0000 - val_loss: 0.0073 - val_precision: 1.0000 - val_recall: 0.9950\n"
     ]
    },
    {
     "name": "stderr",
     "output_type": "stream",
     "text": []
    },
    {
     "name": "stdout",
     "output_type": "stream",
     "text": [
      "Epoch 13/20\n",
      "\u001b[1m 1/13\u001b[0m \u001b[32m━\u001b[0m\u001b[37m━━━━━━━━━━━━━━━━━━━\u001b[0m \u001b[1m0s\u001b[0m 52ms/step - accuracy: 1.0000 - auc: 1.0000 - loss: 0.0015 - precision: 1.0000 - recall: 1.0000"
     ]
    },
    {
     "name": "stderr",
     "output_type": "stream",
     "text": []
    },
    {
     "name": "stdout",
     "output_type": "stream",
     "text": [
      "\u001b[1m 6/13\u001b[0m \u001b[32m━━━━━━━━━\u001b[0m\u001b[37m━━━━━━━━━━━\u001b[0m \u001b[1m0s\u001b[0m 24ms/step - accuracy: 0.9942 - auc: 1.0000 - loss: 0.0072 - precision: 0.9900 - recall: 0.9982"
     ]
    },
    {
     "name": "stderr",
     "output_type": "stream",
     "text": []
    },
    {
     "name": "stdout",
     "output_type": "stream",
     "text": [
      "\u001b[1m11/13\u001b[0m \u001b[32m━━━━━━━━━━━━━━━━\u001b[0m\u001b[37m━━━━\u001b[0m \u001b[1m0s\u001b[0m 25ms/step - accuracy: 0.9930 - auc: 1.0000 - loss: 0.0110 - precision: 0.9912 - recall: 0.9946"
     ]
    },
    {
     "name": "stderr",
     "output_type": "stream",
     "text": [
      " 65%|██████▌   | 13/20 [00:08<00:03,  1.90epoch/s, accuracy=0.993, auc=1, loss=0.0146, precision=0.995, recall=0.99, val_accuracy=1, val_auc=1, val_loss=0.000443, val_precision=1, val_recall=1]            "
     ]
    },
    {
     "name": "stdout",
     "output_type": "stream",
     "text": [
      "\u001b[1m13/13\u001b[0m \u001b[32m━━━━━━━━━━━━━━━━━━━━\u001b[0m\u001b[37m\u001b[0m \u001b[1m1s\u001b[0m 38ms/step - accuracy: 0.9929 - auc: 1.0000 - loss: 0.0118 - precision: 0.9920 - recall: 0.9936 - val_accuracy: 1.0000 - val_auc: 1.0000 - val_loss: 4.4282e-04 - val_precision: 1.0000 - val_recall: 1.0000\n"
     ]
    },
    {
     "name": "stderr",
     "output_type": "stream",
     "text": []
    },
    {
     "name": "stdout",
     "output_type": "stream",
     "text": [
      "Epoch 14/20\n",
      "\u001b[1m 1/13\u001b[0m \u001b[32m━\u001b[0m\u001b[37m━━━━━━━━━━━━━━━━━━━\u001b[0m \u001b[1m0s\u001b[0m 50ms/step - accuracy: 1.0000 - auc: 1.0000 - loss: 0.0021 - precision: 1.0000 - recall: 1.0000"
     ]
    },
    {
     "name": "stderr",
     "output_type": "stream",
     "text": []
    },
    {
     "name": "stdout",
     "output_type": "stream",
     "text": [
      "\u001b[1m 7/13\u001b[0m \u001b[32m━━━━━━━━━━\u001b[0m\u001b[37m━━━━━━━━━━\u001b[0m \u001b[1m0s\u001b[0m 23ms/step - accuracy: 1.0000 - auc: 1.0000 - loss: 0.0053 - precision: 1.0000 - recall: 1.0000"
     ]
    },
    {
     "name": "stderr",
     "output_type": "stream",
     "text": []
    },
    {
     "name": "stdout",
     "output_type": "stream",
     "text": [
      "\u001b[1m13/13\u001b[0m \u001b[32m━━━━━━━━━━━━━━━━━━━━\u001b[0m\u001b[37m\u001b[0m \u001b[1m0s\u001b[0m 22ms/step - accuracy: 1.0000 - auc: 1.0000 - loss: 0.0044 - precision: 1.0000 - recall: 1.0000"
     ]
    },
    {
     "name": "stderr",
     "output_type": "stream",
     "text": [
      " 70%|███████   | 14/20 [00:08<00:03,  1.94epoch/s, accuracy=1, auc=1, loss=0.00323, precision=1, recall=1, val_accuracy=1, val_auc=1, val_loss=0.000283, val_precision=1, val_recall=1]          "
     ]
    },
    {
     "name": "stdout",
     "output_type": "stream",
     "text": [
      "\u001b[1m13/13\u001b[0m \u001b[32m━━━━━━━━━━━━━━━━━━━━\u001b[0m\u001b[37m\u001b[0m \u001b[1m0s\u001b[0m 36ms/step - accuracy: 1.0000 - auc: 1.0000 - loss: 0.0044 - precision: 1.0000 - recall: 1.0000 - val_accuracy: 1.0000 - val_auc: 1.0000 - val_loss: 2.8330e-04 - val_precision: 1.0000 - val_recall: 1.0000\n"
     ]
    },
    {
     "name": "stderr",
     "output_type": "stream",
     "text": []
    },
    {
     "name": "stdout",
     "output_type": "stream",
     "text": [
      "Epoch 15/20\n",
      "\u001b[1m 1/13\u001b[0m \u001b[32m━\u001b[0m\u001b[37m━━━━━━━━━━━━━━━━━━━\u001b[0m \u001b[1m0s\u001b[0m 49ms/step - accuracy: 0.9375 - auc: 1.0000 - loss: 0.1416 - precision: 1.0000 - recall: 0.8571"
     ]
    },
    {
     "name": "stderr",
     "output_type": "stream",
     "text": []
    },
    {
     "name": "stdout",
     "output_type": "stream",
     "text": [
      "\u001b[1m 7/13\u001b[0m \u001b[32m━━━━━━━━━━\u001b[0m\u001b[37m━━━━━━━━━━\u001b[0m \u001b[1m0s\u001b[0m 24ms/step - accuracy: 0.9746 - auc: 0.9997 - loss: 0.0620 - precision: 0.9953 - recall: 0.9510"
     ]
    },
    {
     "name": "stderr",
     "output_type": "stream",
     "text": []
    },
    {
     "name": "stdout",
     "output_type": "stream",
     "text": [
      "\u001b[1m13/13\u001b[0m \u001b[32m━━━━━━━━━━━━━━━━━━━━\u001b[0m\u001b[37m\u001b[0m \u001b[1m0s\u001b[0m 23ms/step - accuracy: 0.9810 - auc: 0.9997 - loss: 0.0477 - precision: 0.9929 - recall: 0.9675"
     ]
    },
    {
     "name": "stderr",
     "output_type": "stream",
     "text": [
      " 75%|███████▌  | 15/20 [00:09<00:02,  1.92epoch/s, accuracy=0.988, auc=1, loss=0.0307, precision=0.99, recall=0.985, val_accuracy=1, val_auc=1, val_loss=2.7e-5, val_precision=1, val_recall=1]"
     ]
    },
    {
     "name": "stdout",
     "output_type": "stream",
     "text": [
      "\u001b[1m13/13\u001b[0m \u001b[32m━━━━━━━━━━━━━━━━━━━━\u001b[0m\u001b[37m\u001b[0m \u001b[1m1s\u001b[0m 40ms/step - accuracy: 0.9815 - auc: 0.9997 - loss: 0.0464 - precision: 0.9927 - recall: 0.9688 - val_accuracy: 1.0000 - val_auc: 1.0000 - val_loss: 2.6972e-05 - val_precision: 1.0000 - val_recall: 1.0000\n"
     ]
    },
    {
     "name": "stderr",
     "output_type": "stream",
     "text": []
    },
    {
     "name": "stdout",
     "output_type": "stream",
     "text": [
      "Epoch 16/20\n",
      "\u001b[1m 3/13\u001b[0m \u001b[32m━━━━\u001b[0m\u001b[37m━━━━━━━━━━━━━━━━\u001b[0m \u001b[1m0s\u001b[0m 27ms/step - accuracy: 1.0000 - auc: 1.0000 - loss: 3.4763e-04 - precision: 1.0000 - recall: 1.0000"
     ]
    },
    {
     "name": "stderr",
     "output_type": "stream",
     "text": []
    },
    {
     "name": "stdout",
     "output_type": "stream",
     "text": [
      "\u001b[1m 7/13\u001b[0m \u001b[32m━━━━━━━━━━\u001b[0m\u001b[37m━━━━━━━━━━\u001b[0m \u001b[1m0s\u001b[0m 27ms/step - accuracy: 1.0000 - auc: 1.0000 - loss: 3.1208e-04 - precision: 1.0000 - recall: 1.0000"
     ]
    },
    {
     "name": "stderr",
     "output_type": "stream",
     "text": []
    },
    {
     "name": "stdout",
     "output_type": "stream",
     "text": [
      "\u001b[1m10/13\u001b[0m \u001b[32m━━━━━━━━━━━━━━━\u001b[0m\u001b[37m━━━━━\u001b[0m \u001b[1m0s\u001b[0m 26ms/step - accuracy: 1.0000 - auc: 1.0000 - loss: 0.0010 - precision: 1.0000 - recall: 1.0000    "
     ]
    },
    {
     "name": "stderr",
     "output_type": "stream",
     "text": []
    },
    {
     "name": "stdout",
     "output_type": "stream",
     "text": [
      "\u001b[1m13/13\u001b[0m \u001b[32m━━━━━━━━━━━━━━━━━━━━\u001b[0m\u001b[37m\u001b[0m \u001b[1m0s\u001b[0m 24ms/step - accuracy: 1.0000 - auc: 1.0000 - loss: 0.0016 - precision: 1.0000 - recall: 1.0000"
     ]
    },
    {
     "name": "stderr",
     "output_type": "stream",
     "text": [
      " 80%|████████  | 16/20 [00:10<00:02,  1.92epoch/s, accuracy=1, auc=1, loss=0.00323, precision=1, recall=1, val_accuracy=1, val_auc=1, val_loss=0.00162, val_precision=1, val_recall=1]         "
     ]
    },
    {
     "name": "stdout",
     "output_type": "stream",
     "text": [
      "\u001b[1m13/13\u001b[0m \u001b[32m━━━━━━━━━━━━━━━━━━━━\u001b[0m\u001b[37m\u001b[0m \u001b[1m1s\u001b[0m 38ms/step - accuracy: 1.0000 - auc: 1.0000 - loss: 0.0017 - precision: 1.0000 - recall: 1.0000 - val_accuracy: 1.0000 - val_auc: 1.0000 - val_loss: 0.0016 - val_precision: 1.0000 - val_recall: 1.0000\n"
     ]
    },
    {
     "name": "stderr",
     "output_type": "stream",
     "text": []
    },
    {
     "name": "stdout",
     "output_type": "stream",
     "text": [
      "Epoch 17/20\n",
      "\u001b[1m 4/13\u001b[0m \u001b[32m━━━━━━\u001b[0m\u001b[37m━━━━━━━━━━━━━━\u001b[0m \u001b[1m0s\u001b[0m 24ms/step - accuracy: 1.0000 - auc: 1.0000 - loss: 4.0328e-04 - precision: 1.0000 - recall: 1.0000"
     ]
    },
    {
     "name": "stderr",
     "output_type": "stream",
     "text": []
    },
    {
     "name": "stdout",
     "output_type": "stream",
     "text": [
      "\u001b[1m 7/13\u001b[0m \u001b[32m━━━━━━━━━━\u001b[0m\u001b[37m━━━━━━━━━━\u001b[0m \u001b[1m0s\u001b[0m 24ms/step - accuracy: 1.0000 - auc: 1.0000 - loss: 3.8062e-04 - precision: 1.0000 - recall: 1.0000"
     ]
    },
    {
     "name": "stderr",
     "output_type": "stream",
     "text": []
    },
    {
     "name": "stdout",
     "output_type": "stream",
     "text": [
      "\u001b[1m13/13\u001b[0m \u001b[32m━━━━━━━━━━━━━━━━━━━━\u001b[0m\u001b[37m\u001b[0m \u001b[1m0s\u001b[0m 23ms/step - accuracy: 0.9994 - auc: 1.0000 - loss: 8.3046e-04 - precision: 1.0000 - recall: 0.9988"
     ]
    },
    {
     "name": "stderr",
     "output_type": "stream",
     "text": [
      " 85%|████████▌ | 17/20 [00:10<00:01,  1.90epoch/s, accuracy=0.998, auc=1, loss=0.00226, precision=1, recall=0.995, val_accuracy=1, val_auc=1, val_loss=1.29e-5, val_precision=1, val_recall=1]"
     ]
    },
    {
     "name": "stdout",
     "output_type": "stream",
     "text": [
      "\u001b[1m13/13\u001b[0m \u001b[32m━━━━━━━━━━━━━━━━━━━━\u001b[0m\u001b[37m\u001b[0m \u001b[1m1s\u001b[0m 38ms/step - accuracy: 0.9993 - auc: 1.0000 - loss: 9.3250e-04 - precision: 1.0000 - recall: 0.9985 - val_accuracy: 1.0000 - val_auc: 1.0000 - val_loss: 1.2902e-05 - val_precision: 1.0000 - val_recall: 1.0000\n"
     ]
    },
    {
     "name": "stderr",
     "output_type": "stream",
     "text": []
    },
    {
     "name": "stdout",
     "output_type": "stream",
     "text": [
      "Epoch 18/20\n",
      "\u001b[1m 1/13\u001b[0m \u001b[32m━\u001b[0m\u001b[37m━━━━━━━━━━━━━━━━━━━\u001b[0m \u001b[1m0s\u001b[0m 52ms/step - accuracy: 1.0000 - auc: 1.0000 - loss: 0.0012 - precision: 1.0000 - recall: 1.0000"
     ]
    },
    {
     "name": "stderr",
     "output_type": "stream",
     "text": []
    },
    {
     "name": "stdout",
     "output_type": "stream",
     "text": [
      "\u001b[1m 6/13\u001b[0m \u001b[32m━━━━━━━━━\u001b[0m\u001b[37m━━━━━━━━━━━\u001b[0m \u001b[1m0s\u001b[0m 26ms/step - accuracy: 0.9931 - auc: 1.0000 - loss: 0.0127 - precision: 0.9959 - recall: 0.9892"
     ]
    },
    {
     "name": "stderr",
     "output_type": "stream",
     "text": []
    },
    {
     "name": "stdout",
     "output_type": "stream",
     "text": [
      "\u001b[1m11/13\u001b[0m \u001b[32m━━━━━━━━━━━━━━━━\u001b[0m\u001b[37m━━━━\u001b[0m \u001b[1m0s\u001b[0m 25ms/step - accuracy: 0.9910 - auc: 0.9999 - loss: 0.0191 - precision: 0.9944 - recall: 0.9865"
     ]
    },
    {
     "name": "stderr",
     "output_type": "stream",
     "text": [
      " 90%|█████████ | 18/20 [00:11<00:01,  1.90epoch/s, accuracy=0.99, auc=1, loss=0.0226, precision=0.995, recall=0.985, val_accuracy=1, val_auc=1, val_loss=8.99e-7, val_precision=1, val_recall=1]"
     ]
    },
    {
     "name": "stdout",
     "output_type": "stream",
     "text": [
      "\u001b[1m13/13\u001b[0m \u001b[32m━━━━━━━━━━━━━━━━━━━━\u001b[0m\u001b[37m\u001b[0m \u001b[1m1s\u001b[0m 39ms/step - accuracy: 0.9907 - auc: 0.9999 - loss: 0.0199 - precision: 0.9945 - recall: 0.9861 - val_accuracy: 1.0000 - val_auc: 1.0000 - val_loss: 8.9940e-07 - val_precision: 1.0000 - val_recall: 1.0000\n"
     ]
    },
    {
     "name": "stderr",
     "output_type": "stream",
     "text": []
    },
    {
     "name": "stdout",
     "output_type": "stream",
     "text": [
      "Epoch 19/20\n",
      "\u001b[1m 1/13\u001b[0m \u001b[32m━\u001b[0m\u001b[37m━━━━━━━━━━━━━━━━━━━\u001b[0m \u001b[1m0s\u001b[0m 53ms/step - accuracy: 1.0000 - auc: 1.0000 - loss: 2.7815e-05 - precision: 1.0000 - recall: 1.0000"
     ]
    },
    {
     "name": "stderr",
     "output_type": "stream",
     "text": []
    },
    {
     "name": "stdout",
     "output_type": "stream",
     "text": [
      "\u001b[1m 6/13\u001b[0m \u001b[32m━━━━━━━━━\u001b[0m\u001b[37m━━━━━━━━━━━\u001b[0m \u001b[1m0s\u001b[0m 25ms/step - accuracy: 1.0000 - auc: 1.0000 - loss: 0.0032 - precision: 1.0000 - recall: 1.0000  "
     ]
    },
    {
     "name": "stderr",
     "output_type": "stream",
     "text": []
    },
    {
     "name": "stdout",
     "output_type": "stream",
     "text": [
      "\u001b[1m12/13\u001b[0m \u001b[32m━━━━━━━━━━━━━━━━━━\u001b[0m\u001b[37m━━\u001b[0m \u001b[1m0s\u001b[0m 24ms/step - accuracy: 0.9977 - auc: 1.0000 - loss: 0.0049 - precision: 0.9974 - recall: 0.9981"
     ]
    },
    {
     "name": "stderr",
     "output_type": "stream",
     "text": [
      " 95%|█████████▌| 19/20 [00:11<00:00,  1.92epoch/s, accuracy=0.995, auc=1, loss=0.00675, precision=0.995, recall=0.995, val_accuracy=1, val_auc=1, val_loss=0.000743, val_precision=1, val_recall=1]"
     ]
    },
    {
     "name": "stdout",
     "output_type": "stream",
     "text": [
      "\u001b[1m13/13\u001b[0m \u001b[32m━━━━━━━━━━━━━━━━━━━━\u001b[0m\u001b[37m\u001b[0m \u001b[1m0s\u001b[0m 37ms/step - accuracy: 0.9973 - auc: 1.0000 - loss: 0.0051 - precision: 0.9971 - recall: 0.9976 - val_accuracy: 1.0000 - val_auc: 1.0000 - val_loss: 7.4321e-04 - val_precision: 1.0000 - val_recall: 1.0000\n"
     ]
    },
    {
     "name": "stderr",
     "output_type": "stream",
     "text": []
    },
    {
     "name": "stdout",
     "output_type": "stream",
     "text": [
      "Epoch 20/20\n",
      "\u001b[1m 1/13\u001b[0m \u001b[32m━\u001b[0m\u001b[37m━━━━━━━━━━━━━━━━━━━\u001b[0m \u001b[1m0s\u001b[0m 51ms/step - accuracy: 1.0000 - auc: 1.0000 - loss: 0.0097 - precision: 1.0000 - recall: 1.0000"
     ]
    },
    {
     "name": "stderr",
     "output_type": "stream",
     "text": []
    },
    {
     "name": "stdout",
     "output_type": "stream",
     "text": [
      "\u001b[1m 6/13\u001b[0m \u001b[32m━━━━━━━━━\u001b[0m\u001b[37m━━━━━━━━━━━\u001b[0m \u001b[1m0s\u001b[0m 25ms/step - accuracy: 1.0000 - auc: 1.0000 - loss: 0.0040 - precision: 1.0000 - recall: 1.0000"
     ]
    },
    {
     "name": "stderr",
     "output_type": "stream",
     "text": []
    },
    {
     "name": "stdout",
     "output_type": "stream",
     "text": [
      "\u001b[1m11/13\u001b[0m \u001b[32m━━━━━━━━━━━━━━━━\u001b[0m\u001b[37m━━━━\u001b[0m \u001b[1m0s\u001b[0m 25ms/step - accuracy: 0.9984 - auc: 1.0000 - loss: 0.0044 - precision: 0.9966 - recall: 1.0000"
     ]
    },
    {
     "name": "stderr",
     "output_type": "stream",
     "text": [
      "100%|██████████| 20/20 [00:12<00:00,  1.94epoch/s, accuracy=0.998, auc=1, loss=0.0034, precision=0.995, recall=1, val_accuracy=1, val_auc=1, val_loss=3.72e-7, val_precision=1, val_recall=1]      "
     ]
    },
    {
     "name": "stdout",
     "output_type": "stream",
     "text": [
      "\u001b[1m13/13\u001b[0m \u001b[32m━━━━━━━━━━━━━━━━━━━━\u001b[0m\u001b[37m\u001b[0m \u001b[1m0s\u001b[0m 37ms/step - accuracy: 0.9982 - auc: 1.0000 - loss: 0.0042 - precision: 0.9963 - recall: 1.0000 - val_accuracy: 1.0000 - val_auc: 1.0000 - val_loss: 3.7193e-07 - val_precision: 1.0000 - val_recall: 1.0000\n"
     ]
    },
    {
     "name": "stderr",
     "output_type": "stream",
     "text": [
      "100%|██████████| 20/20 [00:12<00:00,  1.65epoch/s, accuracy=0.998, auc=1, loss=0.0034, precision=0.995, recall=1, val_accuracy=1, val_auc=1, val_loss=3.72e-7, val_precision=1, val_recall=1]\n"
     ]
    },
    {
     "name": "stdout",
     "output_type": "stream",
     "text": [
      "\u001b[1m4/4\u001b[0m \u001b[32m━━━━━━━━━━━━━━━━━━━━\u001b[0m\u001b[37m\u001b[0m \u001b[1m0s\u001b[0m 109ms/step - accuracy: 1.0000 - auc: 1.0000 - loss: 3.3745e-04 - precision: 1.0000 - recall: 1.0000\n",
      "\n",
      "Test Metrics:\n",
      "accuracy: 1.0000\n",
      "auc: 1.0000\n",
      "loss: 0.0002\n",
      "precision: 1.0000\n",
      "recall: 1.0000\n",
      "F1 Score: 1.0000\n",
      "\u001b[1m1/1\u001b[0m \u001b[32m━━━━━━━━━━━━━━━━━━━━\u001b[0m\u001b[37m\u001b[0m \u001b[1m0s\u001b[0m 45ms/step\n",
      "\u001b[1m1/1\u001b[0m \u001b[32m━━━━━━━━━━━━━━━━━━━━\u001b[0m\u001b[37m\u001b[0m \u001b[1m0s\u001b[0m 21ms/step\n",
      "\u001b[1m1/1\u001b[0m \u001b[32m━━━━━━━━━━━━━━━━━━━━\u001b[0m\u001b[37m\u001b[0m \u001b[1m0s\u001b[0m 21ms/step\n",
      "\u001b[1m1/1\u001b[0m \u001b[32m━━━━━━━━━━━━━━━━━━━━\u001b[0m\u001b[37m\u001b[0m \u001b[1m0s\u001b[0m 44ms/step\n",
      "Mean Average Precision (MAP): 1.0000\n"
     ]
    },
    {
     "name": "stderr",
     "output_type": "stream",
     "text": [
      "2025-08-22 20:21:30.727142: W tensorflow/core/framework/local_rendezvous.cc:404] Local rendezvous is aborting with status: OUT_OF_RANGE: End of sequence\n"
     ]
    },
    {
     "data": {
      "image/png": "[encoded data removed]",
      "text/plain": [
       "<Figure size 1000x500 with 1 Axes>"
      ]
     },
     "metadata": {},
     "output_type": "display_data"
    },
    {
     "name": "stderr",
     "output_type": "stream",
     "text": [
      "WARNING:absl:You are saving your model as an HDF5 file via `model.save()` or `keras.saving.save_model(model)`. This file format is considered legacy. We recommend using instead the native Keras format, e.g. `model.save('my_model.keras')` or `keras.saving.save_model(model, 'my_model.keras')`. \n"
     ]
    },
    {
     "name": "stdout",
     "output_type": "stream",
     "text": [
      "Model saved as 'trained_model.h5'\n"
     ]
    }
   ],
   "source": [
    "import tensorflow as tf\n",
    "from tensorflow import keras\n",
    "from tensorflow.keras import layers\n",
    "import matplotlib.pyplot as plt\n",
    "import numpy as np\n",
    "from tensorflow.keras.preprocessing import image\n",
    "from tqdm.keras import TqdmCallback\n",
    "\n",
    "# =====================\n",
    "# Paths\n",
    "# =====================\n",
    "train_dir = \"/Users/naba/Desktop/freelance/dataset/train\"\n",
    "val_dir = \"/Users/naba/Desktop/freelance/dataset/train\"  # fixed from train\n",
    "test_dir = \"/Users/naba/Desktop/freelance/dataset/test\"\n",
    "\n",
    "img_size = (128, 128)\n",
    "batch_size = 32\n",
    "\n",
    "# =====================\n",
    "# Load datasets\n",
    "# =====================\n",
    "train_ds = tf.keras.utils.image_dataset_from_directory(\n",
    "    train_dir,\n",
    "    image_size=img_size,\n",
    "    batch_size=batch_size,\n",
    "    label_mode=\"binary\"\n",
    ")\n",
    "val_ds = tf.keras.utils.image_dataset_from_directory(\n",
    "    val_dir,\n",
    "    image_size=img_size,\n",
    "    batch_size=batch_size,\n",
    "    label_mode=\"binary\"\n",
    ")\n",
    "test_ds = tf.keras.utils.image_dataset_from_directory(\n",
    "    test_dir,\n",
    "    image_size=img_size,\n",
    "    batch_size=batch_size,\n",
    "    label_mode=\"binary\"\n",
    ")\n",
    "\n",
    "# Prefetch for performance\n",
    "train_ds = train_ds.prefetch(buffer_size=tf.data.AUTOTUNE)\n",
    "val_ds = val_ds.prefetch(buffer_size=tf.data.AUTOTUNE)\n",
    "test_ds = test_ds.prefetch(buffer_size=tf.data.AUTOTUNE)\n",
    "\n",
    "# =====================\n",
    "# Build Model\n",
    "# =====================\n",
    "model = keras.Sequential([\n",
    "    layers.Rescaling(1./255, input_shape=(128, 128, 3)),\n",
    "\n",
    "    layers.Conv2D(16, (3,3), activation='relu'),\n",
    "    layers.MaxPooling2D(),\n",
    "\n",
    "    layers.Conv2D(32, (3,3), activation='relu'),\n",
    "    layers.MaxPooling2D(),\n",
    "\n",
    "    layers.Flatten(),\n",
    "    layers.Dense(32, activation='relu'),\n",
    "    layers.Dropout(0.3),\n",
    "    layers.Dense(1, activation='sigmoid')  # binary classification\n",
    "])\n",
    "\n",
    "# Compile\n",
    "model.compile(\n",
    "    optimizer='adam',\n",
    "    loss='binary_crossentropy',\n",
    "    metrics=[\n",
    "        'accuracy',\n",
    "        tf.keras.metrics.AUC(name='auc'),\n",
    "        tf.keras.metrics.Precision(name='precision'),\n",
    "        tf.keras.metrics.Recall(name='recall')\n",
    "    ]\n",
    ")\n",
    "\n",
    "# =====================\n",
    "# Train\n",
    "# =====================\n",
    "history = model.fit(\n",
    "    train_ds,\n",
    "    validation_data=val_ds,\n",
    "    epochs=20,\n",
    "    callbacks=[TqdmCallback(verbose=1)]\n",
    ")\n",
    "\n",
    "# =====================\n",
    "# Evaluate on test set\n",
    "# =====================\n",
    "results = model.evaluate(test_ds, return_dict=True)\n",
    "print(\"\\nTest Metrics:\")\n",
    "for k, v in results.items():\n",
    "    print(f\"{k}: {v:.4f}\")\n",
    "\n",
    "# Compute F1 score manually\n",
    "precision = results['precision']\n",
    "recall = results['recall']\n",
    "f1 = 2 * (precision * recall) / (precision + recall + 1e-7)\n",
    "print(f\"F1 Score: {f1:.4f}\")\n",
    "\n",
    "# Compute MAP (approx as Average Precision)\n",
    "y_true, y_pred = [], []\n",
    "for x, y in test_ds:\n",
    "    preds = model.predict(x)\n",
    "    y_true.extend(y.numpy().flatten())\n",
    "    y_pred.extend(preds.flatten())\n",
    "\n",
    "ap = tf.keras.metrics.AUC(curve=\"PR\")(y_true, y_pred).numpy()\n",
    "print(f\"Mean Average Precision (MAP): {ap:.4f}\")\n",
    "\n",
    "# =====================\n",
    "# Plot training history\n",
    "# =====================\n",
    "plt.figure(figsize=(10,5))\n",
    "plt.plot(history.history['accuracy'], label='train_acc')\n",
    "plt.plot(history.history['val_accuracy'], label='val_acc')\n",
    "plt.plot(history.history['auc'], label='train_auc')\n",
    "plt.plot(history.history['val_auc'], label='val_auc')\n",
    "plt.legend()\n",
    "plt.show()\n",
    "\n",
    "# =====================\n",
    "# Save Model\n",
    "# =====================\n",
    "model.save(\"top_model.h5\")\n",
    "print(\"Model saved as 'trained_model.h5'\")\n",
    "\n",
    "# =====================\n",
    "# Single Image Prediction Function\n",
    "# =====================\n",
    "# Example usage:\n",
    "# predict_single_image(\"/Users/naba/Desktop/freelance/dataset/test/sample.jpg\", model)\n"
   ]
  },
  {
   "cell_type": "code",
   "execution_count": 44,
   "id": "9f3c5468",
   "metadata": {},
   "outputs": [],
   "source": [
    "# def predict_single_image(img_path, model, img_size=(128,128)):\n",
    "#     img = image.load_img(img_path, target_size=img_size)\n",
    "#     img_array = image.img_to_array(img)\n",
    "#     img_array = np.expand_dims(img_array, axis=0)  # batch dimension\n",
    "#     img_array = img_array / 255.0  # normalize as in training\n",
    "\n",
    "#     pred_prob = float(model.predict(img_array, verbose=0)[0][0])\n",
    "#     pred_class = int(pred_prob >= 0.5)\n",
    "#     label = \"Labeled\" if pred_class == 0 else \"Not Labeled\"\n",
    "\n",
    "#     print(f\"Prediction Probability: {pred_prob:.4f}\")\n",
    "#     print(f\"Predicted Class: {pred_class} ({label})\")\n",
    "\n",
    "#     plt.imshow(img)\n",
    "#     plt.title(f\"Predicted: {label} ({pred_prob:.2f})\")\n",
    "#     plt.axis(\"off\")\n",
    "#     plt.show()\n",
    "\n",
    "def predict_single_image(img_path, model, img_size=(128,128)):\n",
    "    img = image.load_img(img_path, target_size=img_size)\n",
    "    img_array = image.img_to_array(img)  # dtype float32\n",
    "    img_array = np.expand_dims(img_array, axis=0)  # add batch dimension\n",
    "\n",
    "    # Don't divide by 255 because model already rescales\n",
    "    pred_prob = float(model.predict(img_array, verbose=0)[0][0])\n",
    "    pred_class = int(pred_prob >= 0.5)\n",
    "\n",
    "    # Map class according to dataset folder order\n",
    "    label = \"Labeled\" if pred_class == 0 else \"Not Labeled\"\n",
    "\n",
    "    print(f\"Prediction Probability: {pred_prob:.4f}\")\n",
    "    print(f\"Predicted Class: {pred_class} ({label})\")\n",
    "\n",
    "    plt.imshow(img.astype(\"uint8\"))\n",
    "    plt.title(f\"Predicted: {label} ({pred_prob:.2f})\")\n",
    "    plt.axis(\"off\")\n",
    "    plt.show()\n"
   ]
  },
  {
   "cell_type": "code",
   "execution_count": 53,
   "id": "62bf6fd9",
   "metadata": {},
   "outputs": [],
   "source": [
    "def predict_single_image(img_path, model, img_size=(128,128)):\n",
    "    \"\"\"\n",
    "    Predict a single image with flipped label mapping:\n",
    "    p < 0.5 -> \"Labeled\"\n",
    "    p >= 0.5 -> \"Not Labeled\"\n",
    "    \"\"\"\n",
    "    # Load image\n",
    "    img = image.load_img(img_path, target_size=img_size)\n",
    "    img_array = image.img_to_array(img)\n",
    "    img_array_exp = np.expand_dims(img_array, axis=0)  # add batch dimension\n",
    "\n",
    "    # Predict probability\n",
    "    pred_prob = float(model.predict(img_array_exp, verbose=0)[0][0])\n",
    "\n",
    "    # Flip mapping\n",
    "    if pred_prob < 0.5:\n",
    "        pred_class = 0\n",
    "        label = \"Labeled\"\n",
    "    else:\n",
    "        pred_class = 1\n",
    "        label = \"Not Labeled\"\n",
    "\n",
    "    print(f\"Prediction Probability: {pred_prob:.4f}\")\n",
    "    print(f\"Predicted Class: {pred_class} ({label})\")\n",
    "\n",
    "    # Show image (convert to NumPy array)\n",
    "    plt.imshow(np.array(img).astype(\"uint8\"))\n",
    "    plt.title(f\"Predicted: {label} ({pred_prob:.2f})\")\n",
    "    plt.axis(\"off\")\n",
    "    plt.show()\n"
   ]
  },
  {
   "cell_type": "code",
   "execution_count": 54,
   "id": "72f8cc6f",
   "metadata": {},
   "outputs": [
    {
     "name": "stderr",
     "output_type": "stream",
     "text": [
      "WARNING:absl:Compiled the loaded model, but the compiled metrics have yet to be built. `model.compile_metrics` will be empty until you train or evaluate the model.\n"
     ]
    }
   ],
   "source": [
    "model = keras.models.load_model(\"top_model.h5\")"
   ]
  },
  {
   "cell_type": "code",
   "execution_count": 58,
   "id": "4e868132",
   "metadata": {},
   "outputs": [
    {
     "name": "stdout",
     "output_type": "stream",
     "text": [
      "Prediction Probability: 1.0000\n",
      "Predicted Class: 1 (Not Labeled)\n"
     ]
    },
    {
     "data": {
      "image/png": "[encoded data removed]",
      "text/plain": [
       "<Figure size 640x480 with 1 Axes>"
      ]
     },
     "metadata": {},
     "output_type": "display_data"
    }
   ],
   "source": [
    "predict_single_image(\"/Users/naba/Desktop/freelance/dataset/test/not_labeled/4.jpeg\", model)"
   ]
  },
  {
   "cell_type": "code",
   "execution_count": null,
   "id": "54e835c4",
   "metadata": {},
   "outputs": [],
   "source": []
  },
  {
   "cell_type": "code",
   "execution_count": null,
   "id": "5a7e656c",
   "metadata": {},
   "outputs": [],
   "source": []
  },
  {
   "cell_type": "code",
   "execution_count": null,
   "id": "ea5ea5b8",
   "metadata": {},
   "outputs": [],
   "source": []
  },
  {
   "cell_type": "code",
   "execution_count": 30,
   "id": "6782071d",
   "metadata": {},
   "outputs": [],
   "source": [
    "import tensorflow as tf\n",
    "import numpy as np\n",
    "from tensorflow.keras.preprocessing import image\n",
    "\n",
    "def predict_single_image(model, img_path, img_size=(128,128)):\n",
    "    # Load and preprocess\n",
    "    img = image.load_img(img_path, target_size=img_size)   # resize\n",
    "    img_array = image.img_to_array(img)                    # convert to array\n",
    "    img_array = np.expand_dims(img_array, axis=0)          # add batch dim\n",
    "    \n",
    "    # Predict\n",
    "    pred = model.predict(img_array, verbose=0)[0][0]       # get scalar\n",
    "    label = \"Labeled\" if pred < 0.5 else \"Not Labeled\"     # since Dense(1,sigmoid)\n",
    "    \n",
    "    print(f\"Raw prediction: {pred:.4f} → {label}\")\n",
    "    return label\n"
   ]
  },
  {
   "cell_type": "code",
   "execution_count": 26,
   "id": "6ce23982",
   "metadata": {},
   "outputs": [
    {
     "name": "stderr",
     "output_type": "stream",
     "text": [
      "WARNING:absl:Compiled the loaded model, but the compiled metrics have yet to be built. `model.compile_metrics` will be empty until you train or evaluate the model.\n"
     ]
    },
    {
     "name": "stdout",
     "output_type": "stream",
     "text": [
      "Raw prediction: 0.9901 → Not Labeled\n"
     ]
    }
   ],
   "source": [
    "import os\n",
    "import numpy as np\n",
    "import tensorflow as tf\n",
    "from tensorflow.keras.preprocessing import image\n",
    "\n",
    "# --- Paths ---\n",
    "img_path = \"/Users/naba/Desktop/freelance/data_qr/test/labeled/6_aug0.png\"\n",
    "save_path = \"/Users/naba/Desktop/freelance/data_qr/saved_models\"\n",
    "\n",
    "# --- Load model ---\n",
    "os.makedirs(save_path, exist_ok=True)\n",
    "best_model = tf.keras.models.load_model(os.path.join(save_path, \"qr_model.h5\"))\n",
    "\n",
    "# --- Image preprocessing ---\n",
    "img_size = (128, 128)\n",
    "img = image.load_img(img_path, target_size=img_size)   # resize to match training\n",
    "img_array = image.img_to_array(img)                    # convert to array\n",
    "img_array = np.expand_dims(img_array, axis=0)          # add batch dimension\n",
    "\n",
    "# --- Predict ---\n",
    "pred = best_model.predict(img_array, verbose=0)[0][0]\n",
    "\n",
    "# --- Map to class ---\n",
    "label = \"Labeled\" if pred < 0.5 else \"Not Labeled\"\n",
    "print(f\"Raw prediction: {pred:.4f} → {label}\")\n"
   ]
  },
  {
   "cell_type": "code",
   "execution_count": 32,
   "id": "b1e6252e",
   "metadata": {},
   "outputs": [
    {
     "name": "stderr",
     "output_type": "stream",
     "text": [
      "WARNING:absl:Compiled the loaded model, but the compiled metrics have yet to be built. `model.compile_metrics` will be empty until you train or evaluate the model.\n"
     ]
    },
    {
     "name": "stdout",
     "output_type": "stream",
     "text": [
      "Raw prediction: 0.9901 → Not Labeled\n"
     ]
    }
   ],
   "source": [
    "import os\n",
    "import numpy as np\n",
    "import tensorflow as tf\n",
    "from tensorflow.keras.preprocessing import image\n",
    "\n",
    "# --- Paths ---\n",
    "img_path = \"/Users/naba/Desktop/freelance/data_qr/test/labeled/6_aug0.png\"\n",
    "save_path = \"/Users/naba/Desktop/freelance/data_qr/saved_models\"\n",
    "\n",
    "# --- Load model ---\n",
    "best_model = tf.keras.models.load_model(os.path.join(save_path, \"qr_model.h5\"))\n",
    "\n",
    "# --- Image preprocessing ---\n",
    "img_size = (128, 128)\n",
    "img = image.load_img(img_path, target_size=img_size)   # resize\n",
    "img_array = image.img_to_array(img)                    # to array\n",
    "img_array = np.expand_dims(img_array, axis=0)          # add batch dim\n",
    "\n",
    "# --- Predict ---\n",
    "pred = best_model.predict(img_array, verbose=0).squeeze()  # → scalar\n",
    "\n",
    "# --- Map to class ---\n",
    "label = \"Labeled\" if pred < 0.5 else \"Not Labeled\"\n",
    "print(f\"Raw prediction: {pred:.4f} → {label}\")\n"
   ]
  }
 ],
 "metadata": {
  "kernelspec": {
   "display_name": "venv",
   "language": "python",
   "name": "python3"
  },
  "language_info": {
   "codemirror_mode": {
    "name": "ipython",
    "version": 3
   },
   "file_extension": ".py",
   "mimetype": "text/x-python",
   "name": "python",
   "nbconvert_exporter": "python",
   "pygments_lexer": "ipython3",
   "version": "3.9.6"
  }
 },
 "nbformat": 4,
 "nbformat_minor": 5
}
